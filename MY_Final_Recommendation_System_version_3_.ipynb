{
  "cells": [
    {
      "cell_type": "markdown",
      "source": [
        "# Parameters"
      ],
      "metadata": {
        "id": "6txPe8fmqEtD"
      },
      "id": "6txPe8fmqEtD"
    },
    {
      "cell_type": "code",
      "source": [
        "# Weighted Hybrid Recommendation\n",
        "weights = {\n",
        "    \"collaborative\": 0.7,\n",
        "    \"combined-based\": 0.3\n",
        "}\n",
        "\n",
        "user_id = 237\n",
        "item_id = 623\n",
        "\n",
        "prediction_features = ['0.2469145','1533.872059','1513.704125','3111.593042','0.06602422','0.074812066']"
      ],
      "metadata": {
        "id": "jgXUVCi6VkAF"
      },
      "id": "jgXUVCi6VkAF",
      "execution_count": 1,
      "outputs": []
    },
    {
      "cell_type": "markdown",
      "source": [
        "# Dependences"
      ],
      "metadata": {
        "id": "CuXGBHHva6ni"
      },
      "id": "CuXGBHHva6ni"
    },
    {
      "cell_type": "markdown",
      "source": [
        "Installing dependences"
      ],
      "metadata": {
        "id": "9w5ReVcdasRU"
      },
      "id": "9w5ReVcdasRU"
    },
    {
      "cell_type": "code",
      "source": [
        "pip install libRecommender"
      ],
      "metadata": {
        "colab": {
          "base_uri": "https://localhost:8080/"
        },
        "id": "HlxsTL3DT5eL",
        "outputId": "977c4b97-4e55-4c5d-f76c-f51431c7c0a5"
      },
      "id": "HlxsTL3DT5eL",
      "execution_count": 2,
      "outputs": [
        {
          "output_type": "stream",
          "name": "stdout",
          "text": [
            "Collecting libRecommender\n",
            "  Downloading LibRecommender-1.4.0-cp310-cp310-manylinux_2_17_x86_64.manylinux2014_x86_64.whl (2.1 MB)\n",
            "\u001b[2K     \u001b[90m━━━━━━━━━━━━━━━━━━━━━━━━━━━━━━━━━━━━━━━━\u001b[0m \u001b[32m2.1/2.1 MB\u001b[0m \u001b[31m6.2 MB/s\u001b[0m eta \u001b[36m0:00:00\u001b[0m\n",
            "\u001b[?25hRequirement already satisfied: gensim>=4.0.0 in /usr/local/lib/python3.10/dist-packages (from libRecommender) (4.3.2)\n",
            "Requirement already satisfied: tqdm in /usr/local/lib/python3.10/dist-packages (from libRecommender) (4.66.2)\n",
            "Requirement already satisfied: numpy>=1.18.5 in /usr/local/lib/python3.10/dist-packages (from gensim>=4.0.0->libRecommender) (1.25.2)\n",
            "Requirement already satisfied: scipy>=1.7.0 in /usr/local/lib/python3.10/dist-packages (from gensim>=4.0.0->libRecommender) (1.11.4)\n",
            "Requirement already satisfied: smart-open>=1.8.1 in /usr/local/lib/python3.10/dist-packages (from gensim>=4.0.0->libRecommender) (6.4.0)\n",
            "Installing collected packages: libRecommender\n",
            "Successfully installed libRecommender-1.4.0\n"
          ]
        }
      ]
    },
    {
      "cell_type": "markdown",
      "source": [
        "Loading dependences"
      ],
      "metadata": {
        "id": "uOO2KoiGax6B"
      },
      "id": "uOO2KoiGax6B"
    },
    {
      "cell_type": "code",
      "execution_count": 3,
      "id": "403497eb-f5da-405c-ba90-e6d0520d97c6",
      "metadata": {
        "id": "403497eb-f5da-405c-ba90-e6d0520d97c6",
        "colab": {
          "base_uri": "https://localhost:8080/"
        },
        "outputId": "fa69fc56-4dcb-41f8-ee40-2f49f466704b"
      },
      "outputs": [
        {
          "output_type": "stream",
          "name": "stderr",
          "text": [
            "WARNING:tensorflow:From /usr/local/lib/python3.10/dist-packages/tensorflow/python/compat/v2_compat.py:108: disable_resource_variables (from tensorflow.python.ops.variable_scope) is deprecated and will be removed in a future version.\n",
            "Instructions for updating:\n",
            "non-resource variables are not supported in the long term\n"
          ]
        }
      ],
      "source": [
        "import tensorflow as tf\n",
        "import numpy as np\n",
        "import pandas as pd\n",
        "from sklearn.model_selection import train_test_split\n",
        "from sklearn.preprocessing import MinMaxScaler\n",
        "from sklearn.metrics import mean_squared_error\n",
        "from libreco.data import random_split, DatasetPure\n",
        "from libreco.algorithms import NCF\n",
        "from libreco.data import *\n",
        "import libreco as lib\n",
        "from libreco.algorithms import NCF\n",
        "from libreco.evaluation import evaluate"
      ]
    },
    {
      "cell_type": "markdown",
      "source": [
        "# Collaborative Filtering Model (NCF)"
      ],
      "metadata": {
        "id": "qFgUu5MRbafU"
      },
      "id": "qFgUu5MRbafU"
    },
    {
      "cell_type": "markdown",
      "source": [
        "## Data Loading"
      ],
      "metadata": {
        "id": "FZ-NQVCBa1va"
      },
      "id": "FZ-NQVCBa1va"
    },
    {
      "cell_type": "code",
      "execution_count": 4,
      "id": "91db3ba3-0267-48bf-9107-7cb8c0e8aac4",
      "metadata": {
        "id": "91db3ba3-0267-48bf-9107-7cb8c0e8aac4"
      },
      "outputs": [],
      "source": [
        "# Load user ratings data\n",
        "rating_data = pd.read_csv(\"/content/Ratings.csv\")\n",
        "rating_data.columns = [\"user\", \"item\", \"label\", \"time\"]\n",
        "train_data, eval_data, test_data = random_split(rating_data, multi_ratios=[0.8, 0.1, 0.1])"
      ]
    },
    {
      "cell_type": "markdown",
      "source": [
        "## Dataset building"
      ],
      "metadata": {
        "id": "HlTzxbyDqr7S"
      },
      "id": "HlTzxbyDqr7S"
    },
    {
      "cell_type": "code",
      "source": [
        "# Build Collaborative Filtering Dataset (NCF)\n",
        "train_data_cf, data_info_cf = DatasetPure.build_trainset(train_data)\n",
        "eval_data_cf = DatasetPure.build_evalset(eval_data)\n",
        "test_data_cf = DatasetPure.build_testset(test_data)"
      ],
      "metadata": {
        "id": "XtkUgsZQUcao"
      },
      "id": "XtkUgsZQUcao",
      "execution_count": 5,
      "outputs": []
    },
    {
      "cell_type": "markdown",
      "source": [
        "## Model Training"
      ],
      "metadata": {
        "id": "lcoflbSgqvID"
      },
      "id": "lcoflbSgqvID"
    },
    {
      "cell_type": "code",
      "execution_count": 6,
      "id": "9f2185c7-0f75-47b7-9375-77e0247a2f54",
      "metadata": {
        "colab": {
          "base_uri": "https://localhost:8080/"
        },
        "id": "9f2185c7-0f75-47b7-9375-77e0247a2f54",
        "outputId": "a9a4ef21-4083-4696-ef86-78eb1dfc0c4a"
      },
      "outputs": [
        {
          "output_type": "stream",
          "name": "stderr",
          "text": [
            "/usr/local/lib/python3.10/dist-packages/libreco/layers/dense.py:31: UserWarning: `tf.layers.batch_normalization` is deprecated and will be removed in a future version. Please use `tf.keras.layers.BatchNormalization` instead. In particular, `tf.control_dependencies(tf.GraphKeys.UPDATE_OPS)` should not be used (consult the `tf.keras.layers.BatchNormalization` documentation).\n",
            "  net = tf.layers.batch_normalization(net, training=is_training)\n",
            "WARNING:tensorflow:From /usr/local/lib/python3.10/dist-packages/keras/src/layers/normalization/batch_normalization.py:883: _colocate_with (from tensorflow.python.framework.ops) is deprecated and will be removed in a future version.\n",
            "Instructions for updating:\n",
            "Colocations handled automatically by placer.\n"
          ]
        },
        {
          "output_type": "stream",
          "name": "stdout",
          "text": [
            "Training start time: \u001b[35m2024-05-03 09:44:50\u001b[0m\n"
          ]
        },
        {
          "output_type": "stream",
          "name": "stderr",
          "text": [
            "/usr/local/lib/python3.10/dist-packages/libreco/layers/dense.py:39: UserWarning: `tf.layers.batch_normalization` is deprecated and will be removed in a future version. Please use `tf.keras.layers.BatchNormalization` instead. In particular, `tf.control_dependencies(tf.GraphKeys.UPDATE_OPS)` should not be used (consult the `tf.keras.layers.BatchNormalization` documentation).\n",
            "  net = tf.layers.batch_normalization(net, training=is_training)\n",
            "train: 100%|██████████| 820/820 [00:09<00:00, 88.66it/s]\n"
          ]
        },
        {
          "output_type": "stream",
          "name": "stdout",
          "text": [
            "Epoch 1 elapsed: 9.258s\n",
            "\t \u001b[32mtrain_loss: 1.6831\u001b[0m\n"
          ]
        },
        {
          "output_type": "stream",
          "name": "stderr",
          "text": [
            "eval_pointwise: 100%|██████████| 13/13 [00:00<00:00, 33.37it/s]\n"
          ]
        },
        {
          "output_type": "stream",
          "name": "stdout",
          "text": [
            "\t eval rmse: 0.8896\n",
            "==============================\n"
          ]
        },
        {
          "output_type": "stream",
          "name": "stderr",
          "text": [
            "train: 100%|██████████| 820/820 [00:08<00:00, 92.04it/s]\n"
          ]
        },
        {
          "output_type": "stream",
          "name": "stdout",
          "text": [
            "Epoch 2 elapsed: 8.916s\n",
            "\t \u001b[32mtrain_loss: 0.7421\u001b[0m\n"
          ]
        },
        {
          "output_type": "stream",
          "name": "stderr",
          "text": [
            "eval_pointwise: 100%|██████████| 13/13 [00:00<00:00, 72.71it/s]\n"
          ]
        },
        {
          "output_type": "stream",
          "name": "stdout",
          "text": [
            "\t eval rmse: 0.8762\n",
            "==============================\n"
          ]
        },
        {
          "output_type": "stream",
          "name": "stderr",
          "text": [
            "train: 100%|██████████| 820/820 [00:09<00:00, 87.17it/s]\n"
          ]
        },
        {
          "output_type": "stream",
          "name": "stdout",
          "text": [
            "Epoch 3 elapsed: 9.416s\n",
            "\t \u001b[32mtrain_loss: 0.7019\u001b[0m\n"
          ]
        },
        {
          "output_type": "stream",
          "name": "stderr",
          "text": [
            "eval_pointwise: 100%|██████████| 13/13 [00:00<00:00, 68.00it/s]\n"
          ]
        },
        {
          "output_type": "stream",
          "name": "stdout",
          "text": [
            "\t eval rmse: 0.8681\n",
            "==============================\n"
          ]
        },
        {
          "output_type": "stream",
          "name": "stderr",
          "text": [
            "train: 100%|██████████| 820/820 [00:09<00:00, 87.60it/s]\n"
          ]
        },
        {
          "output_type": "stream",
          "name": "stdout",
          "text": [
            "Epoch 4 elapsed: 9.371s\n",
            "\t \u001b[32mtrain_loss: 0.6744\u001b[0m\n"
          ]
        },
        {
          "output_type": "stream",
          "name": "stderr",
          "text": [
            "eval_pointwise: 100%|██████████| 13/13 [00:00<00:00, 71.73it/s]\n"
          ]
        },
        {
          "output_type": "stream",
          "name": "stdout",
          "text": [
            "\t eval rmse: 0.8654\n",
            "==============================\n"
          ]
        },
        {
          "output_type": "stream",
          "name": "stderr",
          "text": [
            "train: 100%|██████████| 820/820 [00:08<00:00, 94.41it/s]\n"
          ]
        },
        {
          "output_type": "stream",
          "name": "stdout",
          "text": [
            "Epoch 5 elapsed: 8.694s\n",
            "\t \u001b[32mtrain_loss: 0.649\u001b[0m\n"
          ]
        },
        {
          "output_type": "stream",
          "name": "stderr",
          "text": [
            "eval_pointwise: 100%|██████████| 13/13 [00:00<00:00, 45.04it/s]\n"
          ]
        },
        {
          "output_type": "stream",
          "name": "stdout",
          "text": [
            "\t eval rmse: 0.8647\n",
            "==============================\n"
          ]
        },
        {
          "output_type": "stream",
          "name": "stderr",
          "text": [
            "train: 100%|██████████| 820/820 [00:09<00:00, 90.20it/s] \n"
          ]
        },
        {
          "output_type": "stream",
          "name": "stdout",
          "text": [
            "Epoch 6 elapsed: 9.097s\n",
            "\t \u001b[32mtrain_loss: 0.627\u001b[0m\n"
          ]
        },
        {
          "output_type": "stream",
          "name": "stderr",
          "text": [
            "eval_pointwise: 100%|██████████| 13/13 [00:00<00:00, 73.20it/s]\n"
          ]
        },
        {
          "output_type": "stream",
          "name": "stdout",
          "text": [
            "\t eval rmse: 0.8663\n",
            "==============================\n"
          ]
        },
        {
          "output_type": "stream",
          "name": "stderr",
          "text": [
            "train: 100%|██████████| 820/820 [00:09<00:00, 88.39it/s] \n"
          ]
        },
        {
          "output_type": "stream",
          "name": "stdout",
          "text": [
            "Epoch 7 elapsed: 9.283s\n",
            "\t \u001b[32mtrain_loss: 0.608\u001b[0m\n"
          ]
        },
        {
          "output_type": "stream",
          "name": "stderr",
          "text": [
            "eval_pointwise: 100%|██████████| 13/13 [00:00<00:00, 69.22it/s]\n"
          ]
        },
        {
          "output_type": "stream",
          "name": "stdout",
          "text": [
            "\t eval rmse: 0.8657\n",
            "==============================\n"
          ]
        },
        {
          "output_type": "stream",
          "name": "stderr",
          "text": [
            "train: 100%|██████████| 820/820 [00:09<00:00, 88.43it/s]\n"
          ]
        },
        {
          "output_type": "stream",
          "name": "stdout",
          "text": [
            "Epoch 8 elapsed: 9.281s\n",
            "\t \u001b[32mtrain_loss: 0.5899\u001b[0m\n"
          ]
        },
        {
          "output_type": "stream",
          "name": "stderr",
          "text": [
            "eval_pointwise: 100%|██████████| 13/13 [00:00<00:00, 67.19it/s]\n"
          ]
        },
        {
          "output_type": "stream",
          "name": "stdout",
          "text": [
            "\t eval rmse: 0.8680\n",
            "==============================\n"
          ]
        },
        {
          "output_type": "stream",
          "name": "stderr",
          "text": [
            "train: 100%|██████████| 820/820 [00:08<00:00, 96.99it/s]\n"
          ]
        },
        {
          "output_type": "stream",
          "name": "stdout",
          "text": [
            "Epoch 9 elapsed: 8.464s\n",
            "\t \u001b[32mtrain_loss: 0.5739\u001b[0m\n"
          ]
        },
        {
          "output_type": "stream",
          "name": "stderr",
          "text": [
            "eval_pointwise: 100%|██████████| 13/13 [00:00<00:00, 72.03it/s]\n"
          ]
        },
        {
          "output_type": "stream",
          "name": "stdout",
          "text": [
            "\t eval rmse: 0.8689\n",
            "==============================\n"
          ]
        },
        {
          "output_type": "stream",
          "name": "stderr",
          "text": [
            "train: 100%|██████████| 820/820 [00:09<00:00, 87.24it/s]\n"
          ]
        },
        {
          "output_type": "stream",
          "name": "stdout",
          "text": [
            "Epoch 10 elapsed: 9.408s\n",
            "\t \u001b[32mtrain_loss: 0.5586\u001b[0m\n"
          ]
        },
        {
          "output_type": "stream",
          "name": "stderr",
          "text": [
            "eval_pointwise: 100%|██████████| 13/13 [00:00<00:00, 71.39it/s]\n"
          ]
        },
        {
          "output_type": "stream",
          "name": "stdout",
          "text": [
            "\t eval rmse: 0.8706\n",
            "==============================\n"
          ]
        },
        {
          "output_type": "stream",
          "name": "stderr",
          "text": [
            "train: 100%|██████████| 820/820 [00:09<00:00, 88.08it/s] \n"
          ]
        },
        {
          "output_type": "stream",
          "name": "stdout",
          "text": [
            "Epoch 11 elapsed: 9.323s\n",
            "\t \u001b[32mtrain_loss: 0.546\u001b[0m\n"
          ]
        },
        {
          "output_type": "stream",
          "name": "stderr",
          "text": [
            "eval_pointwise: 100%|██████████| 13/13 [00:00<00:00, 66.87it/s]\n"
          ]
        },
        {
          "output_type": "stream",
          "name": "stdout",
          "text": [
            "\t eval rmse: 0.8720\n",
            "==============================\n"
          ]
        },
        {
          "output_type": "stream",
          "name": "stderr",
          "text": [
            "train: 100%|██████████| 820/820 [00:10<00:00, 81.79it/s]\n"
          ]
        },
        {
          "output_type": "stream",
          "name": "stdout",
          "text": [
            "Epoch 12 elapsed: 10.040s\n",
            "\t \u001b[32mtrain_loss: 0.5336\u001b[0m\n"
          ]
        },
        {
          "output_type": "stream",
          "name": "stderr",
          "text": [
            "eval_pointwise: 100%|██████████| 13/13 [00:00<00:00, 44.90it/s]\n"
          ]
        },
        {
          "output_type": "stream",
          "name": "stdout",
          "text": [
            "\t eval rmse: 0.8752\n",
            "==============================\n"
          ]
        },
        {
          "output_type": "stream",
          "name": "stderr",
          "text": [
            "train: 100%|██████████| 820/820 [00:08<00:00, 96.58it/s]\n"
          ]
        },
        {
          "output_type": "stream",
          "name": "stdout",
          "text": [
            "Epoch 13 elapsed: 8.506s\n",
            "\t \u001b[32mtrain_loss: 0.5236\u001b[0m\n"
          ]
        },
        {
          "output_type": "stream",
          "name": "stderr",
          "text": [
            "eval_pointwise: 100%|██████████| 13/13 [00:00<00:00, 73.21it/s]\n"
          ]
        },
        {
          "output_type": "stream",
          "name": "stdout",
          "text": [
            "\t eval rmse: 0.8779\n",
            "==============================\n"
          ]
        },
        {
          "output_type": "stream",
          "name": "stderr",
          "text": [
            "train: 100%|██████████| 820/820 [00:09<00:00, 89.44it/s] \n"
          ]
        },
        {
          "output_type": "stream",
          "name": "stdout",
          "text": [
            "Epoch 14 elapsed: 9.177s\n",
            "\t \u001b[32mtrain_loss: 0.5147\u001b[0m\n"
          ]
        },
        {
          "output_type": "stream",
          "name": "stderr",
          "text": [
            "eval_pointwise: 100%|██████████| 13/13 [00:00<00:00, 71.62it/s]\n"
          ]
        },
        {
          "output_type": "stream",
          "name": "stdout",
          "text": [
            "\t eval rmse: 0.8752\n",
            "==============================\n"
          ]
        },
        {
          "output_type": "stream",
          "name": "stderr",
          "text": [
            "train: 100%|██████████| 820/820 [00:09<00:00, 89.19it/s]\n"
          ]
        },
        {
          "output_type": "stream",
          "name": "stdout",
          "text": [
            "Epoch 15 elapsed: 9.201s\n",
            "\t \u001b[32mtrain_loss: 0.5065\u001b[0m\n"
          ]
        },
        {
          "output_type": "stream",
          "name": "stderr",
          "text": [
            "eval_pointwise: 100%|██████████| 13/13 [00:00<00:00, 74.25it/s]\n"
          ]
        },
        {
          "output_type": "stream",
          "name": "stdout",
          "text": [
            "\t eval rmse: 0.8816\n",
            "==============================\n"
          ]
        },
        {
          "output_type": "stream",
          "name": "stderr",
          "text": [
            "train: 100%|██████████| 820/820 [00:08<00:00, 97.04it/s] \n"
          ]
        },
        {
          "output_type": "stream",
          "name": "stdout",
          "text": [
            "Epoch 16 elapsed: 8.459s\n",
            "\t \u001b[32mtrain_loss: 0.4981\u001b[0m\n"
          ]
        },
        {
          "output_type": "stream",
          "name": "stderr",
          "text": [
            "eval_pointwise: 100%|██████████| 13/13 [00:00<00:00, 48.52it/s]\n"
          ]
        },
        {
          "output_type": "stream",
          "name": "stdout",
          "text": [
            "\t eval rmse: 0.8821\n",
            "==============================\n"
          ]
        },
        {
          "output_type": "stream",
          "name": "stderr",
          "text": [
            "train: 100%|██████████| 820/820 [00:09<00:00, 89.28it/s] \n"
          ]
        },
        {
          "output_type": "stream",
          "name": "stdout",
          "text": [
            "Epoch 17 elapsed: 9.200s\n",
            "\t \u001b[32mtrain_loss: 0.4913\u001b[0m\n"
          ]
        },
        {
          "output_type": "stream",
          "name": "stderr",
          "text": [
            "eval_pointwise: 100%|██████████| 13/13 [00:00<00:00, 71.10it/s]\n"
          ]
        },
        {
          "output_type": "stream",
          "name": "stdout",
          "text": [
            "\t eval rmse: 0.8852\n",
            "==============================\n"
          ]
        },
        {
          "output_type": "stream",
          "name": "stderr",
          "text": [
            "train: 100%|██████████| 820/820 [00:09<00:00, 88.77it/s] \n"
          ]
        },
        {
          "output_type": "stream",
          "name": "stdout",
          "text": [
            "Epoch 18 elapsed: 9.246s\n",
            "\t \u001b[32mtrain_loss: 0.485\u001b[0m\n"
          ]
        },
        {
          "output_type": "stream",
          "name": "stderr",
          "text": [
            "eval_pointwise: 100%|██████████| 13/13 [00:00<00:00, 69.86it/s]\n"
          ]
        },
        {
          "output_type": "stream",
          "name": "stdout",
          "text": [
            "\t eval rmse: 0.8874\n",
            "==============================\n"
          ]
        },
        {
          "output_type": "stream",
          "name": "stderr",
          "text": [
            "train: 100%|██████████| 820/820 [00:09<00:00, 90.39it/s]\n"
          ]
        },
        {
          "output_type": "stream",
          "name": "stdout",
          "text": [
            "Epoch 19 elapsed: 9.084s\n",
            "\t \u001b[32mtrain_loss: 0.4786\u001b[0m\n"
          ]
        },
        {
          "output_type": "stream",
          "name": "stderr",
          "text": [
            "eval_pointwise: 100%|██████████| 13/13 [00:00<00:00, 43.75it/s]\n"
          ]
        },
        {
          "output_type": "stream",
          "name": "stdout",
          "text": [
            "\t eval rmse: 0.8883\n",
            "==============================\n"
          ]
        },
        {
          "output_type": "stream",
          "name": "stderr",
          "text": [
            "train: 100%|██████████| 820/820 [00:08<00:00, 99.17it/s]\n"
          ]
        },
        {
          "output_type": "stream",
          "name": "stdout",
          "text": [
            "Epoch 20 elapsed: 8.275s\n",
            "\t \u001b[32mtrain_loss: 0.4739\u001b[0m\n"
          ]
        },
        {
          "output_type": "stream",
          "name": "stderr",
          "text": [
            "eval_pointwise: 100%|██████████| 13/13 [00:00<00:00, 72.97it/s]\n"
          ]
        },
        {
          "output_type": "stream",
          "name": "stdout",
          "text": [
            "\t eval rmse: 0.8883\n",
            "==============================\n"
          ]
        },
        {
          "output_type": "stream",
          "name": "stderr",
          "text": [
            "train: 100%|██████████| 820/820 [00:09<00:00, 89.49it/s] \n"
          ]
        },
        {
          "output_type": "stream",
          "name": "stdout",
          "text": [
            "Epoch 21 elapsed: 9.173s\n",
            "\t \u001b[32mtrain_loss: 0.4682\u001b[0m\n"
          ]
        },
        {
          "output_type": "stream",
          "name": "stderr",
          "text": [
            "eval_pointwise: 100%|██████████| 13/13 [00:00<00:00, 72.14it/s]\n"
          ]
        },
        {
          "output_type": "stream",
          "name": "stdout",
          "text": [
            "\t eval rmse: 0.8907\n",
            "==============================\n"
          ]
        },
        {
          "output_type": "stream",
          "name": "stderr",
          "text": [
            "train: 100%|██████████| 820/820 [00:09<00:00, 88.89it/s]\n"
          ]
        },
        {
          "output_type": "stream",
          "name": "stdout",
          "text": [
            "Epoch 22 elapsed: 9.232s\n",
            "\t \u001b[32mtrain_loss: 0.4633\u001b[0m\n"
          ]
        },
        {
          "output_type": "stream",
          "name": "stderr",
          "text": [
            "eval_pointwise: 100%|██████████| 13/13 [00:00<00:00, 73.68it/s]\n"
          ]
        },
        {
          "output_type": "stream",
          "name": "stdout",
          "text": [
            "\t eval rmse: 0.8909\n",
            "==============================\n"
          ]
        },
        {
          "output_type": "stream",
          "name": "stderr",
          "text": [
            "train: 100%|██████████| 820/820 [00:08<00:00, 99.33it/s] \n"
          ]
        },
        {
          "output_type": "stream",
          "name": "stdout",
          "text": [
            "Epoch 23 elapsed: 8.262s\n",
            "\t \u001b[32mtrain_loss: 0.4594\u001b[0m\n"
          ]
        },
        {
          "output_type": "stream",
          "name": "stderr",
          "text": [
            "eval_pointwise: 100%|██████████| 13/13 [00:00<00:00, 75.04it/s]\n"
          ]
        },
        {
          "output_type": "stream",
          "name": "stdout",
          "text": [
            "\t eval rmse: 0.8963\n",
            "==============================\n"
          ]
        },
        {
          "output_type": "stream",
          "name": "stderr",
          "text": [
            "train: 100%|██████████| 820/820 [00:09<00:00, 90.11it/s] \n"
          ]
        },
        {
          "output_type": "stream",
          "name": "stdout",
          "text": [
            "Epoch 24 elapsed: 9.107s\n",
            "\t \u001b[32mtrain_loss: 0.4555\u001b[0m\n"
          ]
        },
        {
          "output_type": "stream",
          "name": "stderr",
          "text": [
            "eval_pointwise: 100%|██████████| 13/13 [00:00<00:00, 74.43it/s]\n"
          ]
        },
        {
          "output_type": "stream",
          "name": "stdout",
          "text": [
            "\t eval rmse: 0.8953\n",
            "==============================\n"
          ]
        },
        {
          "output_type": "stream",
          "name": "stderr",
          "text": [
            "train: 100%|██████████| 820/820 [00:09<00:00, 89.76it/s] \n"
          ]
        },
        {
          "output_type": "stream",
          "name": "stdout",
          "text": [
            "Epoch 25 elapsed: 9.143s\n",
            "\t \u001b[32mtrain_loss: 0.452\u001b[0m\n"
          ]
        },
        {
          "output_type": "stream",
          "name": "stderr",
          "text": [
            "eval_pointwise: 100%|██████████| 13/13 [00:00<00:00, 76.29it/s]\n"
          ]
        },
        {
          "output_type": "stream",
          "name": "stdout",
          "text": [
            "\t eval rmse: 0.8946\n",
            "==============================\n"
          ]
        },
        {
          "output_type": "stream",
          "name": "stderr",
          "text": [
            "train: 100%|██████████| 820/820 [00:08<00:00, 93.18it/s]\n"
          ]
        },
        {
          "output_type": "stream",
          "name": "stdout",
          "text": [
            "Epoch 26 elapsed: 8.807s\n",
            "\t \u001b[32mtrain_loss: 0.4486\u001b[0m\n"
          ]
        },
        {
          "output_type": "stream",
          "name": "stderr",
          "text": [
            "eval_pointwise: 100%|██████████| 13/13 [00:00<00:00, 48.18it/s]\n"
          ]
        },
        {
          "output_type": "stream",
          "name": "stdout",
          "text": [
            "\t eval rmse: 0.8985\n",
            "==============================\n"
          ]
        },
        {
          "output_type": "stream",
          "name": "stderr",
          "text": [
            "train: 100%|██████████| 820/820 [00:08<00:00, 96.80it/s] \n"
          ]
        },
        {
          "output_type": "stream",
          "name": "stdout",
          "text": [
            "Epoch 27 elapsed: 8.480s\n",
            "\t \u001b[32mtrain_loss: 0.4456\u001b[0m\n"
          ]
        },
        {
          "output_type": "stream",
          "name": "stderr",
          "text": [
            "eval_pointwise: 100%|██████████| 13/13 [00:00<00:00, 69.48it/s]\n"
          ]
        },
        {
          "output_type": "stream",
          "name": "stdout",
          "text": [
            "\t eval rmse: 0.8970\n",
            "==============================\n"
          ]
        },
        {
          "output_type": "stream",
          "name": "stderr",
          "text": [
            "train: 100%|██████████| 820/820 [00:09<00:00, 90.28it/s] \n"
          ]
        },
        {
          "output_type": "stream",
          "name": "stdout",
          "text": [
            "Epoch 28 elapsed: 9.090s\n",
            "\t \u001b[32mtrain_loss: 0.4422\u001b[0m\n"
          ]
        },
        {
          "output_type": "stream",
          "name": "stderr",
          "text": [
            "eval_pointwise: 100%|██████████| 13/13 [00:00<00:00, 71.57it/s]\n"
          ]
        },
        {
          "output_type": "stream",
          "name": "stdout",
          "text": [
            "\t eval rmse: 0.9007\n",
            "==============================\n"
          ]
        },
        {
          "output_type": "stream",
          "name": "stderr",
          "text": [
            "train: 100%|██████████| 820/820 [00:09<00:00, 90.31it/s]\n"
          ]
        },
        {
          "output_type": "stream",
          "name": "stdout",
          "text": [
            "Epoch 29 elapsed: 9.089s\n",
            "\t \u001b[32mtrain_loss: 0.4399\u001b[0m\n"
          ]
        },
        {
          "output_type": "stream",
          "name": "stderr",
          "text": [
            "eval_pointwise: 100%|██████████| 13/13 [00:00<00:00, 68.23it/s]\n"
          ]
        },
        {
          "output_type": "stream",
          "name": "stdout",
          "text": [
            "\t eval rmse: 0.8987\n",
            "==============================\n"
          ]
        },
        {
          "output_type": "stream",
          "name": "stderr",
          "text": [
            "train: 100%|██████████| 820/820 [00:08<00:00, 101.15it/s]\n"
          ]
        },
        {
          "output_type": "stream",
          "name": "stdout",
          "text": [
            "Epoch 30 elapsed: 8.115s\n",
            "\t \u001b[32mtrain_loss: 0.4364\u001b[0m\n"
          ]
        },
        {
          "output_type": "stream",
          "name": "stderr",
          "text": [
            "eval_pointwise: 100%|██████████| 13/13 [00:00<00:00, 65.84it/s]\n"
          ]
        },
        {
          "output_type": "stream",
          "name": "stdout",
          "text": [
            "\t eval rmse: 0.8995\n",
            "==============================\n"
          ]
        },
        {
          "output_type": "stream",
          "name": "stderr",
          "text": [
            "train: 100%|██████████| 820/820 [00:09<00:00, 89.09it/s]\n"
          ]
        },
        {
          "output_type": "stream",
          "name": "stdout",
          "text": [
            "Epoch 31 elapsed: 9.214s\n",
            "\t \u001b[32mtrain_loss: 0.4339\u001b[0m\n"
          ]
        },
        {
          "output_type": "stream",
          "name": "stderr",
          "text": [
            "eval_pointwise: 100%|██████████| 13/13 [00:00<00:00, 71.84it/s]\n"
          ]
        },
        {
          "output_type": "stream",
          "name": "stdout",
          "text": [
            "\t eval rmse: 0.8999\n",
            "==============================\n"
          ]
        },
        {
          "output_type": "stream",
          "name": "stderr",
          "text": [
            "train: 100%|██████████| 820/820 [00:09<00:00, 89.53it/s] \n"
          ]
        },
        {
          "output_type": "stream",
          "name": "stdout",
          "text": [
            "Epoch 32 elapsed: 9.169s\n",
            "\t \u001b[32mtrain_loss: 0.4323\u001b[0m\n"
          ]
        },
        {
          "output_type": "stream",
          "name": "stderr",
          "text": [
            "eval_pointwise: 100%|██████████| 13/13 [00:00<00:00, 75.77it/s]\n"
          ]
        },
        {
          "output_type": "stream",
          "name": "stdout",
          "text": [
            "\t eval rmse: 0.9016\n",
            "==============================\n"
          ]
        },
        {
          "output_type": "stream",
          "name": "stderr",
          "text": [
            "train: 100%|██████████| 820/820 [00:08<00:00, 95.76it/s]\n"
          ]
        },
        {
          "output_type": "stream",
          "name": "stdout",
          "text": [
            "Epoch 33 elapsed: 8.571s\n",
            "\t \u001b[32mtrain_loss: 0.4292\u001b[0m\n"
          ]
        },
        {
          "output_type": "stream",
          "name": "stderr",
          "text": [
            "eval_pointwise: 100%|██████████| 13/13 [00:00<00:00, 46.73it/s]\n"
          ]
        },
        {
          "output_type": "stream",
          "name": "stdout",
          "text": [
            "\t eval rmse: 0.9055\n",
            "==============================\n"
          ]
        },
        {
          "output_type": "stream",
          "name": "stderr",
          "text": [
            "train: 100%|██████████| 820/820 [00:08<00:00, 91.93it/s]\n"
          ]
        },
        {
          "output_type": "stream",
          "name": "stdout",
          "text": [
            "Epoch 34 elapsed: 8.926s\n",
            "\t \u001b[32mtrain_loss: 0.4268\u001b[0m\n"
          ]
        },
        {
          "output_type": "stream",
          "name": "stderr",
          "text": [
            "eval_pointwise: 100%|██████████| 13/13 [00:00<00:00, 72.27it/s]\n"
          ]
        },
        {
          "output_type": "stream",
          "name": "stdout",
          "text": [
            "\t eval rmse: 0.9053\n",
            "==============================\n"
          ]
        },
        {
          "output_type": "stream",
          "name": "stderr",
          "text": [
            "train: 100%|██████████| 820/820 [00:09<00:00, 87.83it/s] \n"
          ]
        },
        {
          "output_type": "stream",
          "name": "stdout",
          "text": [
            "Epoch 35 elapsed: 9.343s\n",
            "\t \u001b[32mtrain_loss: 0.4248\u001b[0m\n"
          ]
        },
        {
          "output_type": "stream",
          "name": "stderr",
          "text": [
            "eval_pointwise: 100%|██████████| 13/13 [00:00<00:00, 71.97it/s]\n"
          ]
        },
        {
          "output_type": "stream",
          "name": "stdout",
          "text": [
            "\t eval rmse: 0.9053\n",
            "==============================\n"
          ]
        },
        {
          "output_type": "stream",
          "name": "stderr",
          "text": [
            "train: 100%|██████████| 820/820 [00:12<00:00, 64.11it/s]\n"
          ]
        },
        {
          "output_type": "stream",
          "name": "stdout",
          "text": [
            "Epoch 36 elapsed: 12.803s\n",
            "\t \u001b[32mtrain_loss: 0.4228\u001b[0m\n"
          ]
        },
        {
          "output_type": "stream",
          "name": "stderr",
          "text": [
            "eval_pointwise: 100%|██████████| 13/13 [00:00<00:00, 29.43it/s]\n"
          ]
        },
        {
          "output_type": "stream",
          "name": "stdout",
          "text": [
            "\t eval rmse: 0.9040\n",
            "==============================\n"
          ]
        },
        {
          "output_type": "stream",
          "name": "stderr",
          "text": [
            "train: 100%|██████████| 820/820 [00:09<00:00, 84.15it/s]\n"
          ]
        },
        {
          "output_type": "stream",
          "name": "stdout",
          "text": [
            "Epoch 37 elapsed: 9.763s\n",
            "\t \u001b[32mtrain_loss: 0.4214\u001b[0m\n"
          ]
        },
        {
          "output_type": "stream",
          "name": "stderr",
          "text": [
            "eval_pointwise: 100%|██████████| 13/13 [00:00<00:00, 73.24it/s]\n"
          ]
        },
        {
          "output_type": "stream",
          "name": "stdout",
          "text": [
            "\t eval rmse: 0.9049\n",
            "==============================\n"
          ]
        },
        {
          "output_type": "stream",
          "name": "stderr",
          "text": [
            "train: 100%|██████████| 820/820 [00:09<00:00, 86.94it/s]\n"
          ]
        },
        {
          "output_type": "stream",
          "name": "stdout",
          "text": [
            "Epoch 38 elapsed: 9.442s\n",
            "\t \u001b[32mtrain_loss: 0.4193\u001b[0m\n"
          ]
        },
        {
          "output_type": "stream",
          "name": "stderr",
          "text": [
            "eval_pointwise: 100%|██████████| 13/13 [00:00<00:00, 48.51it/s]\n"
          ]
        },
        {
          "output_type": "stream",
          "name": "stdout",
          "text": [
            "\t eval rmse: 0.9089\n",
            "==============================\n"
          ]
        },
        {
          "output_type": "stream",
          "name": "stderr",
          "text": [
            "train: 100%|██████████| 820/820 [00:09<00:00, 90.40it/s] \n"
          ]
        },
        {
          "output_type": "stream",
          "name": "stdout",
          "text": [
            "Epoch 39 elapsed: 9.077s\n",
            "\t \u001b[32mtrain_loss: 0.4177\u001b[0m\n"
          ]
        },
        {
          "output_type": "stream",
          "name": "stderr",
          "text": [
            "eval_pointwise: 100%|██████████| 13/13 [00:00<00:00, 73.85it/s]\n"
          ]
        },
        {
          "output_type": "stream",
          "name": "stdout",
          "text": [
            "\t eval rmse: 0.9065\n",
            "==============================\n"
          ]
        },
        {
          "output_type": "stream",
          "name": "stderr",
          "text": [
            "train: 100%|██████████| 820/820 [00:09<00:00, 87.84it/s]\n"
          ]
        },
        {
          "output_type": "stream",
          "name": "stdout",
          "text": [
            "Epoch 40 elapsed: 9.345s\n",
            "\t \u001b[32mtrain_loss: 0.4155\u001b[0m\n"
          ]
        },
        {
          "output_type": "stream",
          "name": "stderr",
          "text": [
            "eval_pointwise: 100%|██████████| 13/13 [00:00<00:00, 73.08it/s]\n"
          ]
        },
        {
          "output_type": "stream",
          "name": "stdout",
          "text": [
            "\t eval rmse: 0.9078\n",
            "==============================\n"
          ]
        },
        {
          "output_type": "stream",
          "name": "stderr",
          "text": [
            "train: 100%|██████████| 820/820 [00:09<00:00, 88.38it/s]\n"
          ]
        },
        {
          "output_type": "stream",
          "name": "stdout",
          "text": [
            "Epoch 41 elapsed: 9.287s\n",
            "\t \u001b[32mtrain_loss: 0.4156\u001b[0m\n"
          ]
        },
        {
          "output_type": "stream",
          "name": "stderr",
          "text": [
            "eval_pointwise: 100%|██████████| 13/13 [00:00<00:00, 60.88it/s]\n"
          ]
        },
        {
          "output_type": "stream",
          "name": "stdout",
          "text": [
            "\t eval rmse: 0.9083\n",
            "==============================\n"
          ]
        },
        {
          "output_type": "stream",
          "name": "stderr",
          "text": [
            "train: 100%|██████████| 820/820 [00:08<00:00, 98.96it/s] \n"
          ]
        },
        {
          "output_type": "stream",
          "name": "stdout",
          "text": [
            "Epoch 42 elapsed: 8.294s\n",
            "\t \u001b[32mtrain_loss: 0.4127\u001b[0m\n"
          ]
        },
        {
          "output_type": "stream",
          "name": "stderr",
          "text": [
            "eval_pointwise: 100%|██████████| 13/13 [00:00<00:00, 72.98it/s]\n"
          ]
        },
        {
          "output_type": "stream",
          "name": "stdout",
          "text": [
            "\t eval rmse: 0.9089\n",
            "==============================\n"
          ]
        },
        {
          "output_type": "stream",
          "name": "stderr",
          "text": [
            "train: 100%|██████████| 820/820 [00:09<00:00, 88.86it/s]\n"
          ]
        },
        {
          "output_type": "stream",
          "name": "stdout",
          "text": [
            "Epoch 43 elapsed: 9.233s\n",
            "\t \u001b[32mtrain_loss: 0.4111\u001b[0m\n"
          ]
        },
        {
          "output_type": "stream",
          "name": "stderr",
          "text": [
            "eval_pointwise: 100%|██████████| 13/13 [00:00<00:00, 73.18it/s]\n"
          ]
        },
        {
          "output_type": "stream",
          "name": "stdout",
          "text": [
            "\t eval rmse: 0.9126\n",
            "==============================\n"
          ]
        },
        {
          "output_type": "stream",
          "name": "stderr",
          "text": [
            "train: 100%|██████████| 820/820 [00:09<00:00, 88.58it/s]\n"
          ]
        },
        {
          "output_type": "stream",
          "name": "stdout",
          "text": [
            "Epoch 44 elapsed: 9.267s\n",
            "\t \u001b[32mtrain_loss: 0.4098\u001b[0m\n"
          ]
        },
        {
          "output_type": "stream",
          "name": "stderr",
          "text": [
            "eval_pointwise: 100%|██████████| 13/13 [00:00<00:00, 73.25it/s]\n"
          ]
        },
        {
          "output_type": "stream",
          "name": "stdout",
          "text": [
            "\t eval rmse: 0.9154\n",
            "==============================\n"
          ]
        },
        {
          "output_type": "stream",
          "name": "stderr",
          "text": [
            "train: 100%|██████████| 820/820 [00:08<00:00, 98.96it/s] \n"
          ]
        },
        {
          "output_type": "stream",
          "name": "stdout",
          "text": [
            "Epoch 45 elapsed: 8.294s\n",
            "\t \u001b[32mtrain_loss: 0.4085\u001b[0m\n"
          ]
        },
        {
          "output_type": "stream",
          "name": "stderr",
          "text": [
            "eval_pointwise: 100%|██████████| 13/13 [00:00<00:00, 48.33it/s]\n"
          ]
        },
        {
          "output_type": "stream",
          "name": "stdout",
          "text": [
            "\t eval rmse: 0.9108\n",
            "==============================\n"
          ]
        },
        {
          "output_type": "stream",
          "name": "stderr",
          "text": [
            "train: 100%|██████████| 820/820 [00:09<00:00, 90.34it/s]\n"
          ]
        },
        {
          "output_type": "stream",
          "name": "stdout",
          "text": [
            "Epoch 46 elapsed: 9.086s\n",
            "\t \u001b[32mtrain_loss: 0.4071\u001b[0m\n"
          ]
        },
        {
          "output_type": "stream",
          "name": "stderr",
          "text": [
            "eval_pointwise: 100%|██████████| 13/13 [00:00<00:00, 71.61it/s]\n"
          ]
        },
        {
          "output_type": "stream",
          "name": "stdout",
          "text": [
            "\t eval rmse: 0.9113\n",
            "==============================\n"
          ]
        },
        {
          "output_type": "stream",
          "name": "stderr",
          "text": [
            "train: 100%|██████████| 820/820 [00:09<00:00, 89.56it/s] \n"
          ]
        },
        {
          "output_type": "stream",
          "name": "stdout",
          "text": [
            "Epoch 47 elapsed: 9.162s\n",
            "\t \u001b[32mtrain_loss: 0.4056\u001b[0m\n"
          ]
        },
        {
          "output_type": "stream",
          "name": "stderr",
          "text": [
            "eval_pointwise: 100%|██████████| 13/13 [00:00<00:00, 69.39it/s]\n"
          ]
        },
        {
          "output_type": "stream",
          "name": "stdout",
          "text": [
            "\t eval rmse: 0.9130\n",
            "==============================\n"
          ]
        },
        {
          "output_type": "stream",
          "name": "stderr",
          "text": [
            "train: 100%|██████████| 820/820 [00:09<00:00, 90.82it/s]\n"
          ]
        },
        {
          "output_type": "stream",
          "name": "stdout",
          "text": [
            "Epoch 48 elapsed: 9.043s\n",
            "\t \u001b[32mtrain_loss: 0.4039\u001b[0m\n"
          ]
        },
        {
          "output_type": "stream",
          "name": "stderr",
          "text": [
            "eval_pointwise: 100%|██████████| 13/13 [00:00<00:00, 45.65it/s]\n"
          ]
        },
        {
          "output_type": "stream",
          "name": "stdout",
          "text": [
            "\t eval rmse: 0.9121\n",
            "==============================\n"
          ]
        },
        {
          "output_type": "stream",
          "name": "stderr",
          "text": [
            "train: 100%|██████████| 820/820 [00:08<00:00, 96.87it/s]\n"
          ]
        },
        {
          "output_type": "stream",
          "name": "stdout",
          "text": [
            "Epoch 49 elapsed: 8.473s\n",
            "\t \u001b[32mtrain_loss: 0.4033\u001b[0m\n"
          ]
        },
        {
          "output_type": "stream",
          "name": "stderr",
          "text": [
            "eval_pointwise: 100%|██████████| 13/13 [00:00<00:00, 72.43it/s]\n"
          ]
        },
        {
          "output_type": "stream",
          "name": "stdout",
          "text": [
            "\t eval rmse: 0.9163\n",
            "==============================\n"
          ]
        },
        {
          "output_type": "stream",
          "name": "stderr",
          "text": [
            "train: 100%|██████████| 820/820 [00:09<00:00, 87.90it/s]\n"
          ]
        },
        {
          "output_type": "stream",
          "name": "stdout",
          "text": [
            "Epoch 50 elapsed: 9.335s\n",
            "\t \u001b[32mtrain_loss: 0.4024\u001b[0m\n"
          ]
        },
        {
          "output_type": "stream",
          "name": "stderr",
          "text": [
            "eval_pointwise: 100%|██████████| 13/13 [00:00<00:00, 72.62it/s]\n"
          ]
        },
        {
          "output_type": "stream",
          "name": "stdout",
          "text": [
            "\t eval rmse: 0.9157\n",
            "==============================\n"
          ]
        },
        {
          "output_type": "stream",
          "name": "stderr",
          "text": [
            "train: 100%|██████████| 820/820 [00:09<00:00, 86.17it/s]\n"
          ]
        },
        {
          "output_type": "stream",
          "name": "stdout",
          "text": [
            "Epoch 51 elapsed: 9.522s\n",
            "\t \u001b[32mtrain_loss: 0.401\u001b[0m\n"
          ]
        },
        {
          "output_type": "stream",
          "name": "stderr",
          "text": [
            "eval_pointwise: 100%|██████████| 13/13 [00:00<00:00, 73.31it/s]\n"
          ]
        },
        {
          "output_type": "stream",
          "name": "stdout",
          "text": [
            "\t eval rmse: 0.9125\n",
            "==============================\n"
          ]
        },
        {
          "output_type": "stream",
          "name": "stderr",
          "text": [
            "train: 100%|██████████| 820/820 [00:08<00:00, 93.99it/s]\n"
          ]
        },
        {
          "output_type": "stream",
          "name": "stdout",
          "text": [
            "Epoch 52 elapsed: 8.738s\n",
            "\t \u001b[32mtrain_loss: 0.3998\u001b[0m\n"
          ]
        },
        {
          "output_type": "stream",
          "name": "stderr",
          "text": [
            "eval_pointwise: 100%|██████████| 13/13 [00:00<00:00, 46.81it/s]\n"
          ]
        },
        {
          "output_type": "stream",
          "name": "stdout",
          "text": [
            "\t eval rmse: 0.9164\n",
            "==============================\n"
          ]
        },
        {
          "output_type": "stream",
          "name": "stderr",
          "text": [
            "train: 100%|██████████| 820/820 [00:09<00:00, 86.43it/s]\n"
          ]
        },
        {
          "output_type": "stream",
          "name": "stdout",
          "text": [
            "Epoch 53 elapsed: 9.495s\n",
            "\t \u001b[32mtrain_loss: 0.3988\u001b[0m\n"
          ]
        },
        {
          "output_type": "stream",
          "name": "stderr",
          "text": [
            "eval_pointwise: 100%|██████████| 13/13 [00:00<00:00, 72.72it/s]\n"
          ]
        },
        {
          "output_type": "stream",
          "name": "stdout",
          "text": [
            "\t eval rmse: 0.9190\n",
            "==============================\n"
          ]
        },
        {
          "output_type": "stream",
          "name": "stderr",
          "text": [
            "train: 100%|██████████| 820/820 [00:09<00:00, 85.34it/s]\n"
          ]
        },
        {
          "output_type": "stream",
          "name": "stdout",
          "text": [
            "Epoch 54 elapsed: 9.615s\n",
            "\t \u001b[32mtrain_loss: 0.3975\u001b[0m\n"
          ]
        },
        {
          "output_type": "stream",
          "name": "stderr",
          "text": [
            "eval_pointwise: 100%|██████████| 13/13 [00:00<00:00, 69.15it/s]\n"
          ]
        },
        {
          "output_type": "stream",
          "name": "stdout",
          "text": [
            "\t eval rmse: 0.9160\n",
            "==============================\n"
          ]
        },
        {
          "output_type": "stream",
          "name": "stderr",
          "text": [
            "train: 100%|██████████| 820/820 [00:09<00:00, 85.88it/s]\n"
          ]
        },
        {
          "output_type": "stream",
          "name": "stdout",
          "text": [
            "Epoch 55 elapsed: 9.559s\n",
            "\t \u001b[32mtrain_loss: 0.397\u001b[0m\n"
          ]
        },
        {
          "output_type": "stream",
          "name": "stderr",
          "text": [
            "eval_pointwise: 100%|██████████| 13/13 [00:00<00:00, 72.85it/s]\n"
          ]
        },
        {
          "output_type": "stream",
          "name": "stdout",
          "text": [
            "\t eval rmse: 0.9186\n",
            "==============================\n"
          ]
        },
        {
          "output_type": "stream",
          "name": "stderr",
          "text": [
            "train: 100%|██████████| 820/820 [00:08<00:00, 93.73it/s]\n"
          ]
        },
        {
          "output_type": "stream",
          "name": "stdout",
          "text": [
            "Epoch 56 elapsed: 8.764s\n",
            "\t \u001b[32mtrain_loss: 0.3956\u001b[0m\n"
          ]
        },
        {
          "output_type": "stream",
          "name": "stderr",
          "text": [
            "eval_pointwise: 100%|██████████| 13/13 [00:00<00:00, 46.82it/s]\n"
          ]
        },
        {
          "output_type": "stream",
          "name": "stdout",
          "text": [
            "\t eval rmse: 0.9222\n",
            "==============================\n"
          ]
        },
        {
          "output_type": "stream",
          "name": "stderr",
          "text": [
            "train: 100%|██████████| 820/820 [00:09<00:00, 87.84it/s]\n"
          ]
        },
        {
          "output_type": "stream",
          "name": "stdout",
          "text": [
            "Epoch 57 elapsed: 9.345s\n",
            "\t \u001b[32mtrain_loss: 0.3948\u001b[0m\n"
          ]
        },
        {
          "output_type": "stream",
          "name": "stderr",
          "text": [
            "eval_pointwise: 100%|██████████| 13/13 [00:00<00:00, 71.74it/s]\n"
          ]
        },
        {
          "output_type": "stream",
          "name": "stdout",
          "text": [
            "\t eval rmse: 0.9168\n",
            "==============================\n"
          ]
        },
        {
          "output_type": "stream",
          "name": "stderr",
          "text": [
            "train: 100%|██████████| 820/820 [00:09<00:00, 86.80it/s] \n"
          ]
        },
        {
          "output_type": "stream",
          "name": "stdout",
          "text": [
            "Epoch 58 elapsed: 9.455s\n",
            "\t \u001b[32mtrain_loss: 0.3934\u001b[0m\n"
          ]
        },
        {
          "output_type": "stream",
          "name": "stderr",
          "text": [
            "eval_pointwise: 100%|██████████| 13/13 [00:00<00:00, 69.39it/s]\n"
          ]
        },
        {
          "output_type": "stream",
          "name": "stdout",
          "text": [
            "\t eval rmse: 0.9180\n",
            "==============================\n"
          ]
        },
        {
          "output_type": "stream",
          "name": "stderr",
          "text": [
            "train: 100%|██████████| 820/820 [00:09<00:00, 87.23it/s]\n"
          ]
        },
        {
          "output_type": "stream",
          "name": "stdout",
          "text": [
            "Epoch 59 elapsed: 9.408s\n",
            "\t \u001b[32mtrain_loss: 0.3932\u001b[0m\n"
          ]
        },
        {
          "output_type": "stream",
          "name": "stderr",
          "text": [
            "eval_pointwise: 100%|██████████| 13/13 [00:00<00:00, 73.36it/s]\n"
          ]
        },
        {
          "output_type": "stream",
          "name": "stdout",
          "text": [
            "\t eval rmse: 0.9182\n",
            "==============================\n"
          ]
        },
        {
          "output_type": "stream",
          "name": "stderr",
          "text": [
            "train: 100%|██████████| 820/820 [00:08<00:00, 97.09it/s]\n"
          ]
        },
        {
          "output_type": "stream",
          "name": "stdout",
          "text": [
            "Epoch 60 elapsed: 8.459s\n",
            "\t \u001b[32mtrain_loss: 0.3924\u001b[0m\n"
          ]
        },
        {
          "output_type": "stream",
          "name": "stderr",
          "text": [
            "eval_pointwise: 100%|██████████| 13/13 [00:00<00:00, 71.07it/s]\n"
          ]
        },
        {
          "output_type": "stream",
          "name": "stdout",
          "text": [
            "\t eval rmse: 0.9191\n",
            "==============================\n"
          ]
        },
        {
          "output_type": "stream",
          "name": "stderr",
          "text": [
            "train: 100%|██████████| 820/820 [00:09<00:00, 87.78it/s] \n"
          ]
        },
        {
          "output_type": "stream",
          "name": "stdout",
          "text": [
            "Epoch 61 elapsed: 9.353s\n",
            "\t \u001b[32mtrain_loss: 0.3912\u001b[0m\n"
          ]
        },
        {
          "output_type": "stream",
          "name": "stderr",
          "text": [
            "eval_pointwise: 100%|██████████| 13/13 [00:00<00:00, 68.03it/s]\n"
          ]
        },
        {
          "output_type": "stream",
          "name": "stdout",
          "text": [
            "\t eval rmse: 0.9182\n",
            "==============================\n"
          ]
        },
        {
          "output_type": "stream",
          "name": "stderr",
          "text": [
            "train: 100%|██████████| 820/820 [00:09<00:00, 87.95it/s]\n"
          ]
        },
        {
          "output_type": "stream",
          "name": "stdout",
          "text": [
            "Epoch 62 elapsed: 9.332s\n",
            "\t \u001b[32mtrain_loss: 0.3907\u001b[0m\n"
          ]
        },
        {
          "output_type": "stream",
          "name": "stderr",
          "text": [
            "eval_pointwise: 100%|██████████| 13/13 [00:00<00:00, 72.20it/s]\n"
          ]
        },
        {
          "output_type": "stream",
          "name": "stdout",
          "text": [
            "\t eval rmse: 0.9185\n",
            "==============================\n"
          ]
        },
        {
          "output_type": "stream",
          "name": "stderr",
          "text": [
            "train: 100%|██████████| 820/820 [00:08<00:00, 93.70it/s]\n"
          ]
        },
        {
          "output_type": "stream",
          "name": "stdout",
          "text": [
            "Epoch 63 elapsed: 8.765s\n",
            "\t \u001b[32mtrain_loss: 0.3898\u001b[0m\n"
          ]
        },
        {
          "output_type": "stream",
          "name": "stderr",
          "text": [
            "eval_pointwise: 100%|██████████| 13/13 [00:00<00:00, 48.36it/s]\n"
          ]
        },
        {
          "output_type": "stream",
          "name": "stdout",
          "text": [
            "\t eval rmse: 0.9197\n",
            "==============================\n"
          ]
        },
        {
          "output_type": "stream",
          "name": "stderr",
          "text": [
            "train: 100%|██████████| 820/820 [00:08<00:00, 92.05it/s] \n"
          ]
        },
        {
          "output_type": "stream",
          "name": "stdout",
          "text": [
            "Epoch 64 elapsed: 8.916s\n",
            "\t \u001b[32mtrain_loss: 0.3887\u001b[0m\n"
          ]
        },
        {
          "output_type": "stream",
          "name": "stderr",
          "text": [
            "eval_pointwise: 100%|██████████| 13/13 [00:00<00:00, 70.55it/s]\n"
          ]
        },
        {
          "output_type": "stream",
          "name": "stdout",
          "text": [
            "\t eval rmse: 0.9195\n",
            "==============================\n"
          ]
        },
        {
          "output_type": "stream",
          "name": "stderr",
          "text": [
            "train: 100%|██████████| 820/820 [00:10<00:00, 79.57it/s]\n"
          ]
        },
        {
          "output_type": "stream",
          "name": "stdout",
          "text": [
            "Epoch 65 elapsed: 10.314s\n",
            "\t \u001b[32mtrain_loss: 0.3878\u001b[0m\n"
          ]
        },
        {
          "output_type": "stream",
          "name": "stderr",
          "text": [
            "eval_pointwise: 100%|██████████| 13/13 [00:00<00:00, 72.16it/s]\n"
          ]
        },
        {
          "output_type": "stream",
          "name": "stdout",
          "text": [
            "\t eval rmse: 0.9197\n",
            "==============================\n"
          ]
        },
        {
          "output_type": "stream",
          "name": "stderr",
          "text": [
            "train: 100%|██████████| 820/820 [00:09<00:00, 88.74it/s]\n"
          ]
        },
        {
          "output_type": "stream",
          "name": "stdout",
          "text": [
            "Epoch 66 elapsed: 9.247s\n",
            "\t \u001b[32mtrain_loss: 0.3876\u001b[0m\n"
          ]
        },
        {
          "output_type": "stream",
          "name": "stderr",
          "text": [
            "eval_pointwise: 100%|██████████| 13/13 [00:00<00:00, 71.34it/s]\n"
          ]
        },
        {
          "output_type": "stream",
          "name": "stdout",
          "text": [
            "\t eval rmse: 0.9245\n",
            "==============================\n"
          ]
        },
        {
          "output_type": "stream",
          "name": "stderr",
          "text": [
            "train: 100%|██████████| 820/820 [00:08<00:00, 99.09it/s]\n"
          ]
        },
        {
          "output_type": "stream",
          "name": "stdout",
          "text": [
            "Epoch 67 elapsed: 8.283s\n",
            "\t \u001b[32mtrain_loss: 0.3862\u001b[0m\n"
          ]
        },
        {
          "output_type": "stream",
          "name": "stderr",
          "text": [
            "eval_pointwise: 100%|██████████| 13/13 [00:00<00:00, 66.12it/s]\n"
          ]
        },
        {
          "output_type": "stream",
          "name": "stdout",
          "text": [
            "\t eval rmse: 0.9211\n",
            "==============================\n"
          ]
        },
        {
          "output_type": "stream",
          "name": "stderr",
          "text": [
            "train: 100%|██████████| 820/820 [00:09<00:00, 87.96it/s]\n"
          ]
        },
        {
          "output_type": "stream",
          "name": "stdout",
          "text": [
            "Epoch 68 elapsed: 9.329s\n",
            "\t \u001b[32mtrain_loss: 0.3862\u001b[0m\n"
          ]
        },
        {
          "output_type": "stream",
          "name": "stderr",
          "text": [
            "eval_pointwise: 100%|██████████| 13/13 [00:00<00:00, 67.63it/s]\n"
          ]
        },
        {
          "output_type": "stream",
          "name": "stdout",
          "text": [
            "\t eval rmse: 0.9199\n",
            "==============================\n"
          ]
        },
        {
          "output_type": "stream",
          "name": "stderr",
          "text": [
            "train: 100%|██████████| 820/820 [00:09<00:00, 88.53it/s] \n"
          ]
        },
        {
          "output_type": "stream",
          "name": "stdout",
          "text": [
            "Epoch 69 elapsed: 9.268s\n",
            "\t \u001b[32mtrain_loss: 0.3857\u001b[0m\n"
          ]
        },
        {
          "output_type": "stream",
          "name": "stderr",
          "text": [
            "eval_pointwise: 100%|██████████| 13/13 [00:00<00:00, 72.66it/s]\n"
          ]
        },
        {
          "output_type": "stream",
          "name": "stdout",
          "text": [
            "\t eval rmse: 0.9236\n",
            "==============================\n"
          ]
        },
        {
          "output_type": "stream",
          "name": "stderr",
          "text": [
            "train: 100%|██████████| 820/820 [00:08<00:00, 94.59it/s]\n"
          ]
        },
        {
          "output_type": "stream",
          "name": "stdout",
          "text": [
            "Epoch 70 elapsed: 8.678s\n",
            "\t \u001b[32mtrain_loss: 0.3843\u001b[0m\n"
          ]
        },
        {
          "output_type": "stream",
          "name": "stderr",
          "text": [
            "eval_pointwise: 100%|██████████| 13/13 [00:00<00:00, 45.84it/s]\n"
          ]
        },
        {
          "output_type": "stream",
          "name": "stdout",
          "text": [
            "\t eval rmse: 0.9210\n",
            "==============================\n"
          ]
        },
        {
          "output_type": "stream",
          "name": "stderr",
          "text": [
            "train: 100%|██████████| 820/820 [00:08<00:00, 93.05it/s] \n"
          ]
        },
        {
          "output_type": "stream",
          "name": "stdout",
          "text": [
            "Epoch 71 elapsed: 8.823s\n",
            "\t \u001b[32mtrain_loss: 0.3838\u001b[0m\n"
          ]
        },
        {
          "output_type": "stream",
          "name": "stderr",
          "text": [
            "eval_pointwise: 100%|██████████| 13/13 [00:00<00:00, 74.62it/s]\n"
          ]
        },
        {
          "output_type": "stream",
          "name": "stdout",
          "text": [
            "\t eval rmse: 0.9224\n",
            "==============================\n"
          ]
        },
        {
          "output_type": "stream",
          "name": "stderr",
          "text": [
            "train: 100%|██████████| 820/820 [00:09<00:00, 88.47it/s]\n"
          ]
        },
        {
          "output_type": "stream",
          "name": "stdout",
          "text": [
            "Epoch 72 elapsed: 9.275s\n",
            "\t \u001b[32mtrain_loss: 0.3831\u001b[0m\n"
          ]
        },
        {
          "output_type": "stream",
          "name": "stderr",
          "text": [
            "eval_pointwise: 100%|██████████| 13/13 [00:00<00:00, 70.22it/s]\n"
          ]
        },
        {
          "output_type": "stream",
          "name": "stdout",
          "text": [
            "\t eval rmse: 0.9213\n",
            "==============================\n"
          ]
        },
        {
          "output_type": "stream",
          "name": "stderr",
          "text": [
            "train: 100%|██████████| 820/820 [00:09<00:00, 88.86it/s]\n"
          ]
        },
        {
          "output_type": "stream",
          "name": "stdout",
          "text": [
            "Epoch 73 elapsed: 9.233s\n",
            "\t \u001b[32mtrain_loss: 0.3825\u001b[0m\n"
          ]
        },
        {
          "output_type": "stream",
          "name": "stderr",
          "text": [
            "eval_pointwise: 100%|██████████| 13/13 [00:00<00:00, 65.70it/s]\n"
          ]
        },
        {
          "output_type": "stream",
          "name": "stdout",
          "text": [
            "\t eval rmse: 0.9205\n",
            "==============================\n"
          ]
        },
        {
          "output_type": "stream",
          "name": "stderr",
          "text": [
            "train: 100%|██████████| 820/820 [00:08<00:00, 99.06it/s]\n"
          ]
        },
        {
          "output_type": "stream",
          "name": "stdout",
          "text": [
            "Epoch 74 elapsed: 8.286s\n",
            "\t \u001b[32mtrain_loss: 0.3817\u001b[0m\n"
          ]
        },
        {
          "output_type": "stream",
          "name": "stderr",
          "text": [
            "eval_pointwise: 100%|██████████| 13/13 [00:00<00:00, 71.01it/s]\n"
          ]
        },
        {
          "output_type": "stream",
          "name": "stdout",
          "text": [
            "\t eval rmse: 0.9227\n",
            "==============================\n"
          ]
        },
        {
          "output_type": "stream",
          "name": "stderr",
          "text": [
            "train: 100%|██████████| 820/820 [00:09<00:00, 87.88it/s]\n"
          ]
        },
        {
          "output_type": "stream",
          "name": "stdout",
          "text": [
            "Epoch 75 elapsed: 9.340s\n",
            "\t \u001b[32mtrain_loss: 0.3815\u001b[0m\n"
          ]
        },
        {
          "output_type": "stream",
          "name": "stderr",
          "text": [
            "eval_pointwise: 100%|██████████| 13/13 [00:00<00:00, 69.87it/s]\n"
          ]
        },
        {
          "output_type": "stream",
          "name": "stdout",
          "text": [
            "\t eval rmse: 0.9238\n",
            "==============================\n"
          ]
        },
        {
          "output_type": "stream",
          "name": "stderr",
          "text": [
            "train: 100%|██████████| 820/820 [00:09<00:00, 87.31it/s] \n"
          ]
        },
        {
          "output_type": "stream",
          "name": "stdout",
          "text": [
            "Epoch 76 elapsed: 9.399s\n",
            "\t \u001b[32mtrain_loss: 0.3812\u001b[0m\n"
          ]
        },
        {
          "output_type": "stream",
          "name": "stderr",
          "text": [
            "eval_pointwise: 100%|██████████| 13/13 [00:00<00:00, 71.83it/s]\n"
          ]
        },
        {
          "output_type": "stream",
          "name": "stdout",
          "text": [
            "\t eval rmse: 0.9244\n",
            "==============================\n"
          ]
        },
        {
          "output_type": "stream",
          "name": "stderr",
          "text": [
            "train: 100%|██████████| 820/820 [00:08<00:00, 93.69it/s]\n"
          ]
        },
        {
          "output_type": "stream",
          "name": "stdout",
          "text": [
            "Epoch 77 elapsed: 8.763s\n",
            "\t \u001b[32mtrain_loss: 0.3802\u001b[0m\n"
          ]
        },
        {
          "output_type": "stream",
          "name": "stderr",
          "text": [
            "eval_pointwise: 100%|██████████| 13/13 [00:00<00:00, 45.72it/s]\n"
          ]
        },
        {
          "output_type": "stream",
          "name": "stdout",
          "text": [
            "\t eval rmse: 0.9224\n",
            "==============================\n"
          ]
        },
        {
          "output_type": "stream",
          "name": "stderr",
          "text": [
            "train: 100%|██████████| 820/820 [00:08<00:00, 93.30it/s]\n"
          ]
        },
        {
          "output_type": "stream",
          "name": "stdout",
          "text": [
            "Epoch 78 elapsed: 8.798s\n",
            "\t \u001b[32mtrain_loss: 0.3799\u001b[0m\n"
          ]
        },
        {
          "output_type": "stream",
          "name": "stderr",
          "text": [
            "eval_pointwise: 100%|██████████| 13/13 [00:00<00:00, 71.54it/s]\n"
          ]
        },
        {
          "output_type": "stream",
          "name": "stdout",
          "text": [
            "\t eval rmse: 0.9228\n",
            "==============================\n"
          ]
        },
        {
          "output_type": "stream",
          "name": "stderr",
          "text": [
            "train: 100%|██████████| 820/820 [00:09<00:00, 88.57it/s]\n"
          ]
        },
        {
          "output_type": "stream",
          "name": "stdout",
          "text": [
            "Epoch 79 elapsed: 9.272s\n",
            "\t \u001b[32mtrain_loss: 0.3793\u001b[0m\n"
          ]
        },
        {
          "output_type": "stream",
          "name": "stderr",
          "text": [
            "eval_pointwise: 100%|██████████| 13/13 [00:00<00:00, 71.84it/s]\n"
          ]
        },
        {
          "output_type": "stream",
          "name": "stdout",
          "text": [
            "\t eval rmse: 0.9243\n",
            "==============================\n"
          ]
        },
        {
          "output_type": "stream",
          "name": "stderr",
          "text": [
            "train: 100%|██████████| 820/820 [00:09<00:00, 88.47it/s]\n"
          ]
        },
        {
          "output_type": "stream",
          "name": "stdout",
          "text": [
            "Epoch 80 elapsed: 9.278s\n",
            "\t \u001b[32mtrain_loss: 0.3786\u001b[0m\n"
          ]
        },
        {
          "output_type": "stream",
          "name": "stderr",
          "text": [
            "eval_pointwise: 100%|██████████| 13/13 [00:00<00:00, 71.14it/s]\n"
          ]
        },
        {
          "output_type": "stream",
          "name": "stdout",
          "text": [
            "\t eval rmse: 0.9214\n",
            "==============================\n"
          ]
        },
        {
          "output_type": "stream",
          "name": "stderr",
          "text": [
            "train: 100%|██████████| 820/820 [00:08<00:00, 99.02it/s] \n"
          ]
        },
        {
          "output_type": "stream",
          "name": "stdout",
          "text": [
            "Epoch 81 elapsed: 8.290s\n",
            "\t \u001b[32mtrain_loss: 0.3782\u001b[0m\n"
          ]
        },
        {
          "output_type": "stream",
          "name": "stderr",
          "text": [
            "eval_pointwise: 100%|██████████| 13/13 [00:00<00:00, 71.80it/s]\n"
          ]
        },
        {
          "output_type": "stream",
          "name": "stdout",
          "text": [
            "\t eval rmse: 0.9258\n",
            "==============================\n"
          ]
        },
        {
          "output_type": "stream",
          "name": "stderr",
          "text": [
            "train: 100%|██████████| 820/820 [00:09<00:00, 88.32it/s]\n"
          ]
        },
        {
          "output_type": "stream",
          "name": "stdout",
          "text": [
            "Epoch 82 elapsed: 9.292s\n",
            "\t \u001b[32mtrain_loss: 0.3777\u001b[0m\n"
          ]
        },
        {
          "output_type": "stream",
          "name": "stderr",
          "text": [
            "eval_pointwise: 100%|██████████| 13/13 [00:00<00:00, 69.46it/s]\n"
          ]
        },
        {
          "output_type": "stream",
          "name": "stdout",
          "text": [
            "\t eval rmse: 0.9237\n",
            "==============================\n"
          ]
        },
        {
          "output_type": "stream",
          "name": "stderr",
          "text": [
            "train: 100%|██████████| 820/820 [00:09<00:00, 89.11it/s] \n"
          ]
        },
        {
          "output_type": "stream",
          "name": "stdout",
          "text": [
            "Epoch 83 elapsed: 9.208s\n",
            "\t \u001b[32mtrain_loss: 0.377\u001b[0m\n"
          ]
        },
        {
          "output_type": "stream",
          "name": "stderr",
          "text": [
            "eval_pointwise: 100%|██████████| 13/13 [00:00<00:00, 71.09it/s]\n"
          ]
        },
        {
          "output_type": "stream",
          "name": "stdout",
          "text": [
            "\t eval rmse: 0.9265\n",
            "==============================\n"
          ]
        },
        {
          "output_type": "stream",
          "name": "stderr",
          "text": [
            "train: 100%|██████████| 820/820 [00:08<00:00, 95.37it/s]\n"
          ]
        },
        {
          "output_type": "stream",
          "name": "stdout",
          "text": [
            "Epoch 84 elapsed: 8.610s\n",
            "\t \u001b[32mtrain_loss: 0.3769\u001b[0m\n"
          ]
        },
        {
          "output_type": "stream",
          "name": "stderr",
          "text": [
            "eval_pointwise: 100%|██████████| 13/13 [00:00<00:00, 49.12it/s]\n"
          ]
        },
        {
          "output_type": "stream",
          "name": "stdout",
          "text": [
            "\t eval rmse: 0.9271\n",
            "==============================\n"
          ]
        },
        {
          "output_type": "stream",
          "name": "stderr",
          "text": [
            "train: 100%|██████████| 820/820 [00:08<00:00, 92.23it/s]\n"
          ]
        },
        {
          "output_type": "stream",
          "name": "stdout",
          "text": [
            "Epoch 85 elapsed: 8.905s\n",
            "\t \u001b[32mtrain_loss: 0.376\u001b[0m\n"
          ]
        },
        {
          "output_type": "stream",
          "name": "stderr",
          "text": [
            "eval_pointwise: 100%|██████████| 13/13 [00:00<00:00, 71.16it/s]\n"
          ]
        },
        {
          "output_type": "stream",
          "name": "stdout",
          "text": [
            "\t eval rmse: 0.9260\n",
            "==============================\n"
          ]
        },
        {
          "output_type": "stream",
          "name": "stderr",
          "text": [
            "train: 100%|██████████| 820/820 [00:09<00:00, 89.10it/s]\n"
          ]
        },
        {
          "output_type": "stream",
          "name": "stdout",
          "text": [
            "Epoch 86 elapsed: 9.211s\n",
            "\t \u001b[32mtrain_loss: 0.3761\u001b[0m\n"
          ]
        },
        {
          "output_type": "stream",
          "name": "stderr",
          "text": [
            "eval_pointwise: 100%|██████████| 13/13 [00:00<00:00, 72.03it/s]\n"
          ]
        },
        {
          "output_type": "stream",
          "name": "stdout",
          "text": [
            "\t eval rmse: 0.9241\n",
            "==============================\n"
          ]
        },
        {
          "output_type": "stream",
          "name": "stderr",
          "text": [
            "train: 100%|██████████| 820/820 [00:09<00:00, 88.17it/s]\n"
          ]
        },
        {
          "output_type": "stream",
          "name": "stdout",
          "text": [
            "Epoch 87 elapsed: 9.308s\n",
            "\t \u001b[32mtrain_loss: 0.3754\u001b[0m\n"
          ]
        },
        {
          "output_type": "stream",
          "name": "stderr",
          "text": [
            "eval_pointwise: 100%|██████████| 13/13 [00:00<00:00, 72.27it/s]\n"
          ]
        },
        {
          "output_type": "stream",
          "name": "stdout",
          "text": [
            "\t eval rmse: 0.9242\n",
            "==============================\n"
          ]
        },
        {
          "output_type": "stream",
          "name": "stderr",
          "text": [
            "train: 100%|██████████| 820/820 [00:08<00:00, 97.42it/s]\n"
          ]
        },
        {
          "output_type": "stream",
          "name": "stdout",
          "text": [
            "Epoch 88 elapsed: 8.426s\n",
            "\t \u001b[32mtrain_loss: 0.3745\u001b[0m\n"
          ]
        },
        {
          "output_type": "stream",
          "name": "stderr",
          "text": [
            "eval_pointwise: 100%|██████████| 13/13 [00:00<00:00, 74.88it/s]\n"
          ]
        },
        {
          "output_type": "stream",
          "name": "stdout",
          "text": [
            "\t eval rmse: 0.9254\n",
            "==============================\n"
          ]
        },
        {
          "output_type": "stream",
          "name": "stderr",
          "text": [
            "train: 100%|██████████| 820/820 [00:09<00:00, 87.70it/s] \n"
          ]
        },
        {
          "output_type": "stream",
          "name": "stdout",
          "text": [
            "Epoch 89 elapsed: 9.356s\n",
            "\t \u001b[32mtrain_loss: 0.3744\u001b[0m\n"
          ]
        },
        {
          "output_type": "stream",
          "name": "stderr",
          "text": [
            "eval_pointwise: 100%|██████████| 13/13 [00:00<00:00, 67.28it/s]\n"
          ]
        },
        {
          "output_type": "stream",
          "name": "stdout",
          "text": [
            "\t eval rmse: 0.9264\n",
            "==============================\n"
          ]
        },
        {
          "output_type": "stream",
          "name": "stderr",
          "text": [
            "train: 100%|██████████| 820/820 [00:09<00:00, 88.21it/s]\n"
          ]
        },
        {
          "output_type": "stream",
          "name": "stdout",
          "text": [
            "Epoch 90 elapsed: 9.303s\n",
            "\t \u001b[32mtrain_loss: 0.3736\u001b[0m\n"
          ]
        },
        {
          "output_type": "stream",
          "name": "stderr",
          "text": [
            "eval_pointwise: 100%|██████████| 13/13 [00:00<00:00, 70.81it/s]\n"
          ]
        },
        {
          "output_type": "stream",
          "name": "stdout",
          "text": [
            "\t eval rmse: 0.9284\n",
            "==============================\n"
          ]
        },
        {
          "output_type": "stream",
          "name": "stderr",
          "text": [
            "train: 100%|██████████| 820/820 [00:10<00:00, 80.14it/s]\n"
          ]
        },
        {
          "output_type": "stream",
          "name": "stdout",
          "text": [
            "Epoch 91 elapsed: 10.245s\n",
            "\t \u001b[32mtrain_loss: 0.3733\u001b[0m\n"
          ]
        },
        {
          "output_type": "stream",
          "name": "stderr",
          "text": [
            "eval_pointwise: 100%|██████████| 13/13 [00:00<00:00, 42.31it/s]\n"
          ]
        },
        {
          "output_type": "stream",
          "name": "stdout",
          "text": [
            "\t eval rmse: 0.9260\n",
            "==============================\n"
          ]
        },
        {
          "output_type": "stream",
          "name": "stderr",
          "text": [
            "train: 100%|██████████| 820/820 [00:08<00:00, 97.52it/s]\n"
          ]
        },
        {
          "output_type": "stream",
          "name": "stdout",
          "text": [
            "Epoch 92 elapsed: 8.416s\n",
            "\t \u001b[32mtrain_loss: 0.3729\u001b[0m\n"
          ]
        },
        {
          "output_type": "stream",
          "name": "stderr",
          "text": [
            "eval_pointwise: 100%|██████████| 13/13 [00:00<00:00, 71.02it/s]\n"
          ]
        },
        {
          "output_type": "stream",
          "name": "stdout",
          "text": [
            "\t eval rmse: 0.9264\n",
            "==============================\n"
          ]
        },
        {
          "output_type": "stream",
          "name": "stderr",
          "text": [
            "train: 100%|██████████| 820/820 [00:09<00:00, 88.57it/s] \n"
          ]
        },
        {
          "output_type": "stream",
          "name": "stdout",
          "text": [
            "Epoch 93 elapsed: 9.266s\n",
            "\t \u001b[32mtrain_loss: 0.3721\u001b[0m\n"
          ]
        },
        {
          "output_type": "stream",
          "name": "stderr",
          "text": [
            "eval_pointwise: 100%|██████████| 13/13 [00:00<00:00, 73.16it/s]\n"
          ]
        },
        {
          "output_type": "stream",
          "name": "stdout",
          "text": [
            "\t eval rmse: 0.9271\n",
            "==============================\n"
          ]
        },
        {
          "output_type": "stream",
          "name": "stderr",
          "text": [
            "train: 100%|██████████| 820/820 [00:09<00:00, 88.56it/s] \n"
          ]
        },
        {
          "output_type": "stream",
          "name": "stdout",
          "text": [
            "Epoch 94 elapsed: 9.267s\n",
            "\t \u001b[32mtrain_loss: 0.3722\u001b[0m\n"
          ]
        },
        {
          "output_type": "stream",
          "name": "stderr",
          "text": [
            "eval_pointwise: 100%|██████████| 13/13 [00:00<00:00, 64.47it/s]\n"
          ]
        },
        {
          "output_type": "stream",
          "name": "stdout",
          "text": [
            "\t eval rmse: 0.9268\n",
            "==============================\n"
          ]
        },
        {
          "output_type": "stream",
          "name": "stderr",
          "text": [
            "train: 100%|██████████| 820/820 [00:08<00:00, 99.30it/s] \n"
          ]
        },
        {
          "output_type": "stream",
          "name": "stdout",
          "text": [
            "Epoch 95 elapsed: 8.270s\n",
            "\t \u001b[32mtrain_loss: 0.3714\u001b[0m\n"
          ]
        },
        {
          "output_type": "stream",
          "name": "stderr",
          "text": [
            "eval_pointwise: 100%|██████████| 13/13 [00:00<00:00, 48.17it/s]\n"
          ]
        },
        {
          "output_type": "stream",
          "name": "stdout",
          "text": [
            "\t eval rmse: 0.9282\n",
            "==============================\n"
          ]
        },
        {
          "output_type": "stream",
          "name": "stderr",
          "text": [
            "train: 100%|██████████| 820/820 [00:09<00:00, 90.07it/s] \n"
          ]
        },
        {
          "output_type": "stream",
          "name": "stdout",
          "text": [
            "Epoch 96 elapsed: 9.111s\n",
            "\t \u001b[32mtrain_loss: 0.3712\u001b[0m\n"
          ]
        },
        {
          "output_type": "stream",
          "name": "stderr",
          "text": [
            "eval_pointwise: 100%|██████████| 13/13 [00:00<00:00, 75.59it/s]\n"
          ]
        },
        {
          "output_type": "stream",
          "name": "stdout",
          "text": [
            "\t eval rmse: 0.9273\n",
            "==============================\n"
          ]
        },
        {
          "output_type": "stream",
          "name": "stderr",
          "text": [
            "train: 100%|██████████| 820/820 [00:09<00:00, 89.31it/s] \n"
          ]
        },
        {
          "output_type": "stream",
          "name": "stdout",
          "text": [
            "Epoch 97 elapsed: 9.191s\n",
            "\t \u001b[32mtrain_loss: 0.3708\u001b[0m\n"
          ]
        },
        {
          "output_type": "stream",
          "name": "stderr",
          "text": [
            "eval_pointwise: 100%|██████████| 13/13 [00:00<00:00, 72.08it/s]\n"
          ]
        },
        {
          "output_type": "stream",
          "name": "stdout",
          "text": [
            "\t eval rmse: 0.9268\n",
            "==============================\n"
          ]
        },
        {
          "output_type": "stream",
          "name": "stderr",
          "text": [
            "train: 100%|██████████| 820/820 [00:09<00:00, 90.21it/s]\n"
          ]
        },
        {
          "output_type": "stream",
          "name": "stdout",
          "text": [
            "Epoch 98 elapsed: 9.102s\n",
            "\t \u001b[32mtrain_loss: 0.3707\u001b[0m\n"
          ]
        },
        {
          "output_type": "stream",
          "name": "stderr",
          "text": [
            "eval_pointwise: 100%|██████████| 13/13 [00:00<00:00, 47.28it/s]\n"
          ]
        },
        {
          "output_type": "stream",
          "name": "stdout",
          "text": [
            "\t eval rmse: 0.9274\n",
            "==============================\n"
          ]
        },
        {
          "output_type": "stream",
          "name": "stderr",
          "text": [
            "train: 100%|██████████| 820/820 [00:08<00:00, 95.03it/s]\n"
          ]
        },
        {
          "output_type": "stream",
          "name": "stdout",
          "text": [
            "Epoch 99 elapsed: 8.637s\n",
            "\t \u001b[32mtrain_loss: 0.3702\u001b[0m\n"
          ]
        },
        {
          "output_type": "stream",
          "name": "stderr",
          "text": [
            "eval_pointwise: 100%|██████████| 13/13 [00:00<00:00, 64.77it/s]\n"
          ]
        },
        {
          "output_type": "stream",
          "name": "stdout",
          "text": [
            "\t eval rmse: 0.9272\n",
            "==============================\n"
          ]
        },
        {
          "output_type": "stream",
          "name": "stderr",
          "text": [
            "train: 100%|██████████| 820/820 [00:09<00:00, 88.09it/s] \n"
          ]
        },
        {
          "output_type": "stream",
          "name": "stdout",
          "text": [
            "Epoch 100 elapsed: 9.319s\n",
            "\t \u001b[32mtrain_loss: 0.3693\u001b[0m\n"
          ]
        },
        {
          "output_type": "stream",
          "name": "stderr",
          "text": [
            "eval_pointwise: 100%|██████████| 13/13 [00:00<00:00, 69.57it/s]\n"
          ]
        },
        {
          "output_type": "stream",
          "name": "stdout",
          "text": [
            "\t eval rmse: 0.9309\n",
            "==============================\n"
          ]
        }
      ],
      "source": [
        "ncf = NCF(\n",
        "    task=\"rating\",\n",
        "    data_info=data_info_cf,\n",
        "    loss_type=\"cross_entropy\",\n",
        "    embed_size=16,\n",
        "    n_epochs=100,\n",
        "    lr=1e-3,\n",
        "    batch_size=2048,\n",
        "    num_neg=1\n",
        ")\n",
        "# ncf.fit(train_data_cf, verbose=5, eval_data=eval_data_cf, metrics=[\"loss\"])\n",
        "ncf.fit(train_data_cf, verbose=5, eval_data=eval_data_cf, metrics=[\"loss\"], neg_sampling=False)"
      ]
    },
    {
      "cell_type": "markdown",
      "source": [
        "## Evaluation"
      ],
      "metadata": {
        "id": "__hITpjZqyjb"
      },
      "id": "__hITpjZqyjb"
    },
    {
      "cell_type": "code",
      "source": [
        "eval_result = evaluate(\n",
        "    model=ncf,\n",
        "    data=test_data_cf,\n",
        "    neg_sampling=False,\n",
        "    metrics=[\"loss\", \"mae\"]\n",
        "    )\n",
        "print(\"Evaluation result:\", eval_result)"
      ],
      "metadata": {
        "colab": {
          "base_uri": "https://localhost:8080/"
        },
        "id": "cbvIPa9ArhwW",
        "outputId": "ee1fe805-021e-48c5-906d-3577c1022dbb"
      },
      "id": "cbvIPa9ArhwW",
      "execution_count": 7,
      "outputs": [
        {
          "output_type": "stream",
          "name": "stderr",
          "text": [
            "eval_pointwise: 100%|██████████| 13/13 [00:00<00:00, 74.33it/s]\n"
          ]
        },
        {
          "output_type": "stream",
          "name": "stdout",
          "text": [
            "Evaluation result: {'loss': 0.9285537, 'mae': 0.7079443}\n"
          ]
        }
      ]
    },
    {
      "cell_type": "markdown",
      "source": [
        "## Predictions"
      ],
      "metadata": {
        "id": "E6RqxU88q2OH"
      },
      "id": "E6RqxU88q2OH"
    },
    {
      "cell_type": "code",
      "source": [
        "# Predictions from Collaborative Filtering (NCF)\n",
        "collab_predictions = ncf.predict(user=user_id, item=item_id)\n",
        "print(collab_predictions)"
      ],
      "metadata": {
        "colab": {
          "base_uri": "https://localhost:8080/"
        },
        "id": "pVHYKWcQVpWw",
        "outputId": "1ecdf229-cddc-42d3-e8c5-b7d63d70a89b"
      },
      "id": "pVHYKWcQVpWw",
      "execution_count": 8,
      "outputs": [
        {
          "output_type": "stream",
          "name": "stdout",
          "text": [
            "[3.2296135]\n"
          ]
        }
      ]
    },
    {
      "cell_type": "markdown",
      "source": [
        "## Recommandation"
      ],
      "metadata": {
        "id": "DxSp1dE7q8n6"
      },
      "id": "DxSp1dE7q8n6"
    },
    {
      "cell_type": "code",
      "source": [
        "collab_reco = ncf.recommend_user(user=user_id, n_rec=7)\n",
        "print(collab_reco)\n",
        "ncf.recommend_user(user=\"New one\", n_rec=7, cold_start=\"popular\")"
      ],
      "metadata": {
        "colab": {
          "base_uri": "https://localhost:8080/"
        },
        "id": "ev6WphxSpK4H",
        "outputId": "b87afabe-79f4-4f82-85e5-6f15dc166b4c"
      },
      "id": "ev6WphxSpK4H",
      "execution_count": 12,
      "outputs": [
        {
          "output_type": "stream",
          "name": "stdout",
          "text": [
            "{237: array([180095,  27376,   7165,   1936, 122914,   5443, 179401])}\n",
            "\u001b[31mDetect unknown user: New one\u001b[0m\n"
          ]
        },
        {
          "output_type": "execute_result",
          "data": {
            "text/plain": [
              "{'New one': array([1213, 2716,  595, 1196, 8961,  648, 1265])}"
            ]
          },
          "metadata": {},
          "execution_count": 12
        }
      ]
    },
    {
      "cell_type": "markdown",
      "source": [
        "# Content Based Filtering (LSTM)"
      ],
      "metadata": {
        "id": "gjDKemYSq9Cp"
      },
      "id": "gjDKemYSq9Cp"
    },
    {
      "cell_type": "markdown",
      "source": [
        "## Data loading"
      ],
      "metadata": {
        "id": "SfPlygQas5lU"
      },
      "id": "SfPlygQas5lU"
    },
    {
      "cell_type": "code",
      "source": [
        "# combined CSV CODE\n",
        "combined_data=pd.read_csv(\"/content/Combined.csv\")\n",
        "\n",
        "# Preprocess combined data\n",
        "combined_features = combined_data[[\"chroma_stft\", \"spectral_centroid\", \"spectral_bandwidth\", \"spectral_rolloff\", \"rmse\", \"zero_crossing_rate\"]].values\n",
        "combined_filenames = combined_data[['filename']].values"
      ],
      "metadata": {
        "id": "XnzOOXKUU5lE"
      },
      "id": "XnzOOXKUU5lE",
      "execution_count": 13,
      "outputs": []
    },
    {
      "cell_type": "markdown",
      "source": [
        "## Normalization"
      ],
      "metadata": {
        "id": "hRAjU0VGs9DI"
      },
      "id": "hRAjU0VGs9DI"
    },
    {
      "cell_type": "code",
      "source": [
        "# Normalize combined features\n",
        "scaler = MinMaxScaler()\n",
        "combined_features_scaled = scaler.fit_transform(combined_features)"
      ],
      "metadata": {
        "id": "hrE2WzwlVXpc"
      },
      "id": "hrE2WzwlVXpc",
      "execution_count": 14,
      "outputs": []
    },
    {
      "cell_type": "markdown",
      "source": [
        "## Test train split"
      ],
      "metadata": {
        "id": "rNmepGvStDRK"
      },
      "id": "rNmepGvStDRK"
    },
    {
      "cell_type": "code",
      "source": [
        "X_train_filenames, X_test_filenames, X_train_features, X_test_features = train_test_split(combined_filenames,\n",
        "                                                                                          combined_features_scaled,\n",
        "                                                                                          test_size=0.2,\n",
        "                                                                                          random_state=42)"
      ],
      "metadata": {
        "id": "29ENy_vaXsbN"
      },
      "execution_count": 15,
      "outputs": [],
      "id": "29ENy_vaXsbN"
    },
    {
      "cell_type": "markdown",
      "source": [
        "## Model training"
      ],
      "metadata": {
        "id": "CfZxXrT_tHMv"
      },
      "id": "CfZxXrT_tHMv"
    },
    {
      "cell_type": "code",
      "execution_count": 16,
      "id": "36409d2f-9767-4e2e-9d2a-a115705f4b43",
      "metadata": {
        "colab": {
          "base_uri": "https://localhost:8080/"
        },
        "id": "36409d2f-9767-4e2e-9d2a-a115705f4b43",
        "outputId": "2193b777-01d0-4316-db9c-5fa2d7a7282a"
      },
      "outputs": [
        {
          "output_type": "stream",
          "name": "stderr",
          "text": [
            "WARNING:tensorflow:From /usr/local/lib/python3.10/dist-packages/keras/src/initializers/initializers_v1.py:292: calling RandomUniform.__init__ (from tensorflow.python.ops.init_ops) with dtype is deprecated and will be removed in a future version.\n",
            "Instructions for updating:\n",
            "Call initializer instance with the dtype argument instead of passing it to the constructor\n"
          ]
        },
        {
          "output_type": "stream",
          "name": "stdout",
          "text": [
            "Train on 3013 samples, validate on 335 samples\n",
            "Epoch 1/200\n",
            "3013/3013 [==============================] - 1s 207us/sample - loss: 0.1267 - val_loss: 0.0813\n",
            "Epoch 2/200\n",
            "3013/3013 [==============================] - 0s 34us/sample - loss: 0.0541 - val_loss: 0.0338\n",
            "Epoch 3/200\n"
          ]
        },
        {
          "output_type": "stream",
          "name": "stderr",
          "text": [
            "/usr/local/lib/python3.10/dist-packages/keras/src/engine/training_v1.py:2335: UserWarning: `Model.state_updates` will be removed in a future version. This property should not be used in TensorFlow 2.0, as `updates` are applied automatically.\n",
            "  updates = self.state_updates\n"
          ]
        },
        {
          "output_type": "stream",
          "name": "stdout",
          "text": [
            "3013/3013 [==============================] - 0s 33us/sample - loss: 0.0342 - val_loss: 0.0327\n",
            "Epoch 4/200\n",
            "3013/3013 [==============================] - 0s 32us/sample - loss: 0.0287 - val_loss: 0.0332\n",
            "Epoch 5/200\n",
            "3013/3013 [==============================] - 0s 31us/sample - loss: 0.0194 - val_loss: 0.0345\n",
            "Epoch 6/200\n",
            "3013/3013 [==============================] - 0s 32us/sample - loss: 0.0132 - val_loss: 0.0354\n",
            "Epoch 7/200\n",
            "3013/3013 [==============================] - 0s 31us/sample - loss: 0.0107 - val_loss: 0.0353\n",
            "Epoch 8/200\n",
            "3013/3013 [==============================] - 0s 35us/sample - loss: 0.0096 - val_loss: 0.0355\n",
            "Epoch 9/200\n",
            "3013/3013 [==============================] - 0s 32us/sample - loss: 0.0091 - val_loss: 0.0356\n",
            "Epoch 10/200\n",
            "3013/3013 [==============================] - 0s 30us/sample - loss: 0.0085 - val_loss: 0.0358\n",
            "Epoch 11/200\n",
            "3013/3013 [==============================] - 0s 30us/sample - loss: 0.0078 - val_loss: 0.0360\n",
            "Epoch 12/200\n",
            "3013/3013 [==============================] - 0s 32us/sample - loss: 0.0070 - val_loss: 0.0363\n",
            "Epoch 13/200\n",
            "3013/3013 [==============================] - 0s 30us/sample - loss: 0.0060 - val_loss: 0.0366\n",
            "Epoch 14/200\n",
            "3013/3013 [==============================] - 0s 29us/sample - loss: 0.0048 - val_loss: 0.0370\n",
            "Epoch 15/200\n",
            "3013/3013 [==============================] - 0s 30us/sample - loss: 0.0036 - val_loss: 0.0373\n",
            "Epoch 16/200\n",
            "3013/3013 [==============================] - 0s 30us/sample - loss: 0.0026 - val_loss: 0.0377\n",
            "Epoch 17/200\n",
            "3013/3013 [==============================] - 0s 30us/sample - loss: 0.0019 - val_loss: 0.0378\n",
            "Epoch 18/200\n",
            "3013/3013 [==============================] - 0s 36us/sample - loss: 0.0015 - val_loss: 0.0380\n",
            "Epoch 19/200\n",
            "3013/3013 [==============================] - 0s 29us/sample - loss: 0.0012 - val_loss: 0.0380\n",
            "Epoch 20/200\n",
            "3013/3013 [==============================] - 0s 32us/sample - loss: 9.3343e-04 - val_loss: 0.0381\n",
            "Epoch 21/200\n",
            "3013/3013 [==============================] - 0s 29us/sample - loss: 7.2794e-04 - val_loss: 0.0381\n",
            "Epoch 22/200\n",
            "3013/3013 [==============================] - 0s 31us/sample - loss: 5.9431e-04 - val_loss: 0.0381\n",
            "Epoch 23/200\n",
            "3013/3013 [==============================] - 0s 30us/sample - loss: 5.0234e-04 - val_loss: 0.0381\n",
            "Epoch 24/200\n",
            "3013/3013 [==============================] - 0s 30us/sample - loss: 4.5592e-04 - val_loss: 0.0382\n",
            "Epoch 25/200\n",
            "3013/3013 [==============================] - 0s 32us/sample - loss: 4.1991e-04 - val_loss: 0.0381\n",
            "Epoch 26/200\n",
            "3013/3013 [==============================] - 0s 29us/sample - loss: 4.0575e-04 - val_loss: 0.0381\n",
            "Epoch 27/200\n",
            "3013/3013 [==============================] - 0s 30us/sample - loss: 4.0686e-04 - val_loss: 0.0381\n",
            "Epoch 28/200\n",
            "3013/3013 [==============================] - 0s 31us/sample - loss: 3.9775e-04 - val_loss: 0.0381\n",
            "Epoch 29/200\n",
            "3013/3013 [==============================] - 0s 35us/sample - loss: 4.0730e-04 - val_loss: 0.0379\n",
            "Epoch 30/200\n",
            "3013/3013 [==============================] - 0s 31us/sample - loss: 4.0977e-04 - val_loss: 0.0380\n",
            "Epoch 31/200\n",
            "3013/3013 [==============================] - 0s 32us/sample - loss: 3.9127e-04 - val_loss: 0.0378\n",
            "Epoch 32/200\n",
            "3013/3013 [==============================] - 0s 32us/sample - loss: 3.9544e-04 - val_loss: 0.0379\n",
            "Epoch 33/200\n",
            "3013/3013 [==============================] - 0s 34us/sample - loss: 3.7527e-04 - val_loss: 0.0377\n",
            "Epoch 34/200\n",
            "3013/3013 [==============================] - 0s 33us/sample - loss: 3.5610e-04 - val_loss: 0.0377\n",
            "Epoch 35/200\n",
            "3013/3013 [==============================] - 0s 31us/sample - loss: 3.1835e-04 - val_loss: 0.0377\n",
            "Epoch 36/200\n",
            "3013/3013 [==============================] - 0s 31us/sample - loss: 2.9300e-04 - val_loss: 0.0377\n",
            "Epoch 37/200\n",
            "3013/3013 [==============================] - 0s 30us/sample - loss: 2.6820e-04 - val_loss: 0.0376\n",
            "Epoch 38/200\n",
            "3013/3013 [==============================] - 0s 31us/sample - loss: 2.4822e-04 - val_loss: 0.0377\n",
            "Epoch 39/200\n",
            "3013/3013 [==============================] - 0s 33us/sample - loss: 2.2185e-04 - val_loss: 0.0376\n",
            "Epoch 40/200\n",
            "3013/3013 [==============================] - 0s 36us/sample - loss: 2.0815e-04 - val_loss: 0.0376\n",
            "Epoch 41/200\n",
            "3013/3013 [==============================] - 0s 31us/sample - loss: 1.8765e-04 - val_loss: 0.0376\n",
            "Epoch 42/200\n",
            "3013/3013 [==============================] - 0s 31us/sample - loss: 1.8265e-04 - val_loss: 0.0376\n",
            "Epoch 43/200\n",
            "3013/3013 [==============================] - 0s 31us/sample - loss: 1.6458e-04 - val_loss: 0.0376\n",
            "Epoch 44/200\n",
            "3013/3013 [==============================] - 0s 32us/sample - loss: 1.5812e-04 - val_loss: 0.0376\n",
            "Epoch 45/200\n",
            "3013/3013 [==============================] - 0s 29us/sample - loss: 1.5600e-04 - val_loss: 0.0375\n",
            "Epoch 46/200\n",
            "3013/3013 [==============================] - 0s 31us/sample - loss: 1.5155e-04 - val_loss: 0.0376\n",
            "Epoch 47/200\n",
            "3013/3013 [==============================] - 0s 31us/sample - loss: 1.4843e-04 - val_loss: 0.0375\n",
            "Epoch 48/200\n",
            "3013/3013 [==============================] - 0s 31us/sample - loss: 1.4438e-04 - val_loss: 0.0376\n",
            "Epoch 49/200\n",
            "3013/3013 [==============================] - 0s 34us/sample - loss: 1.4379e-04 - val_loss: 0.0375\n",
            "Epoch 50/200\n",
            "3013/3013 [==============================] - 0s 35us/sample - loss: 1.4492e-04 - val_loss: 0.0375\n",
            "Epoch 51/200\n",
            "3013/3013 [==============================] - 0s 32us/sample - loss: 1.3779e-04 - val_loss: 0.0375\n",
            "Epoch 52/200\n",
            "3013/3013 [==============================] - 0s 31us/sample - loss: 1.4194e-04 - val_loss: 0.0375\n",
            "Epoch 53/200\n",
            "3013/3013 [==============================] - 0s 32us/sample - loss: 1.3866e-04 - val_loss: 0.0375\n",
            "Epoch 54/200\n",
            "3013/3013 [==============================] - 0s 31us/sample - loss: 1.4080e-04 - val_loss: 0.0375\n",
            "Epoch 55/200\n",
            "3013/3013 [==============================] - 0s 31us/sample - loss: 1.4043e-04 - val_loss: 0.0375\n",
            "Epoch 56/200\n",
            "3013/3013 [==============================] - 0s 31us/sample - loss: 1.4643e-04 - val_loss: 0.0375\n",
            "Epoch 57/200\n",
            "3013/3013 [==============================] - 0s 29us/sample - loss: 1.4812e-04 - val_loss: 0.0374\n",
            "Epoch 58/200\n",
            "3013/3013 [==============================] - 0s 31us/sample - loss: 1.4415e-04 - val_loss: 0.0375\n",
            "Epoch 59/200\n",
            "3013/3013 [==============================] - 0s 30us/sample - loss: 1.4535e-04 - val_loss: 0.0374\n",
            "Epoch 60/200\n",
            "3013/3013 [==============================] - 0s 30us/sample - loss: 1.5099e-04 - val_loss: 0.0374\n",
            "Epoch 61/200\n",
            "3013/3013 [==============================] - 0s 34us/sample - loss: 1.5719e-04 - val_loss: 0.0374\n",
            "Epoch 62/200\n",
            "3013/3013 [==============================] - 0s 29us/sample - loss: 1.7063e-04 - val_loss: 0.0374\n",
            "Epoch 63/200\n",
            "3013/3013 [==============================] - 0s 32us/sample - loss: 1.7017e-04 - val_loss: 0.0373\n",
            "Epoch 64/200\n",
            "3013/3013 [==============================] - 0s 31us/sample - loss: 1.7762e-04 - val_loss: 0.0373\n",
            "Epoch 65/200\n",
            "3013/3013 [==============================] - 0s 30us/sample - loss: 1.7258e-04 - val_loss: 0.0373\n",
            "Epoch 66/200\n",
            "3013/3013 [==============================] - 0s 31us/sample - loss: 1.6965e-04 - val_loss: 0.0373\n",
            "Epoch 67/200\n",
            "3013/3013 [==============================] - 0s 32us/sample - loss: 1.6280e-04 - val_loss: 0.0372\n",
            "Epoch 68/200\n",
            "3013/3013 [==============================] - 0s 30us/sample - loss: 1.6101e-04 - val_loss: 0.0372\n",
            "Epoch 69/200\n",
            "3013/3013 [==============================] - 0s 29us/sample - loss: 1.5276e-04 - val_loss: 0.0372\n",
            "Epoch 70/200\n",
            "3013/3013 [==============================] - 0s 30us/sample - loss: 1.5153e-04 - val_loss: 0.0372\n",
            "Epoch 71/200\n",
            "3013/3013 [==============================] - 0s 32us/sample - loss: 1.4236e-04 - val_loss: 0.0372\n",
            "Epoch 72/200\n",
            "3013/3013 [==============================] - 0s 34us/sample - loss: 1.4273e-04 - val_loss: 0.0372\n",
            "Epoch 73/200\n",
            "3013/3013 [==============================] - 0s 29us/sample - loss: 1.2496e-04 - val_loss: 0.0371\n",
            "Epoch 74/200\n",
            "3013/3013 [==============================] - 0s 31us/sample - loss: 1.1464e-04 - val_loss: 0.0371\n",
            "Epoch 75/200\n",
            "3013/3013 [==============================] - 0s 31us/sample - loss: 1.1022e-04 - val_loss: 0.0371\n",
            "Epoch 76/200\n",
            "3013/3013 [==============================] - 0s 31us/sample - loss: 1.0609e-04 - val_loss: 0.0371\n",
            "Epoch 77/200\n",
            "3013/3013 [==============================] - 0s 31us/sample - loss: 9.7546e-05 - val_loss: 0.0371\n",
            "Epoch 78/200\n",
            "3013/3013 [==============================] - 0s 29us/sample - loss: 9.0888e-05 - val_loss: 0.0371\n",
            "Epoch 79/200\n",
            "3013/3013 [==============================] - 0s 29us/sample - loss: 8.5840e-05 - val_loss: 0.0371\n",
            "Epoch 80/200\n",
            "3013/3013 [==============================] - 0s 29us/sample - loss: 8.4055e-05 - val_loss: 0.0371\n",
            "Epoch 81/200\n",
            "3013/3013 [==============================] - 0s 33us/sample - loss: 8.0025e-05 - val_loss: 0.0371\n",
            "Epoch 82/200\n",
            "3013/3013 [==============================] - 0s 32us/sample - loss: 7.5023e-05 - val_loss: 0.0371\n",
            "Epoch 83/200\n",
            "3013/3013 [==============================] - 0s 36us/sample - loss: 7.4772e-05 - val_loss: 0.0370\n",
            "Epoch 84/200\n",
            "3013/3013 [==============================] - 0s 30us/sample - loss: 7.2836e-05 - val_loss: 0.0370\n",
            "Epoch 85/200\n",
            "3013/3013 [==============================] - 0s 31us/sample - loss: 7.0064e-05 - val_loss: 0.0370\n",
            "Epoch 86/200\n",
            "3013/3013 [==============================] - 0s 53us/sample - loss: 6.8469e-05 - val_loss: 0.0370\n",
            "Epoch 87/200\n",
            "3013/3013 [==============================] - 0s 54us/sample - loss: 7.0221e-05 - val_loss: 0.0370\n",
            "Epoch 88/200\n",
            "3013/3013 [==============================] - 0s 54us/sample - loss: 7.1692e-05 - val_loss: 0.0370\n",
            "Epoch 89/200\n",
            "3013/3013 [==============================] - 0s 54us/sample - loss: 7.3779e-05 - val_loss: 0.0370\n",
            "Epoch 90/200\n",
            "3013/3013 [==============================] - 0s 62us/sample - loss: 7.7361e-05 - val_loss: 0.0370\n",
            "Epoch 91/200\n",
            "3013/3013 [==============================] - 0s 52us/sample - loss: 7.8489e-05 - val_loss: 0.0370\n",
            "Epoch 92/200\n",
            "3013/3013 [==============================] - 0s 50us/sample - loss: 8.5023e-05 - val_loss: 0.0370\n",
            "Epoch 93/200\n",
            "3013/3013 [==============================] - 0s 49us/sample - loss: 8.8044e-05 - val_loss: 0.0370\n",
            "Epoch 94/200\n",
            "3013/3013 [==============================] - 0s 48us/sample - loss: 9.6926e-05 - val_loss: 0.0370\n",
            "Epoch 95/200\n",
            "3013/3013 [==============================] - 0s 48us/sample - loss: 1.0137e-04 - val_loss: 0.0370\n",
            "Epoch 96/200\n",
            "3013/3013 [==============================] - 0s 55us/sample - loss: 1.1268e-04 - val_loss: 0.0369\n",
            "Epoch 97/200\n",
            "3013/3013 [==============================] - 0s 56us/sample - loss: 1.1890e-04 - val_loss: 0.0369\n",
            "Epoch 98/200\n",
            "3013/3013 [==============================] - 0s 53us/sample - loss: 1.2053e-04 - val_loss: 0.0369\n",
            "Epoch 99/200\n",
            "3013/3013 [==============================] - 0s 60us/sample - loss: 1.1429e-04 - val_loss: 0.0369\n",
            "Epoch 100/200\n",
            "3013/3013 [==============================] - 0s 54us/sample - loss: 1.1287e-04 - val_loss: 0.0369\n",
            "Epoch 101/200\n",
            "3013/3013 [==============================] - 0s 52us/sample - loss: 1.0393e-04 - val_loss: 0.0369\n",
            "Epoch 102/200\n",
            "3013/3013 [==============================] - 0s 57us/sample - loss: 1.0406e-04 - val_loss: 0.0369\n",
            "Epoch 103/200\n",
            "3013/3013 [==============================] - 0s 62us/sample - loss: 1.0287e-04 - val_loss: 0.0369\n",
            "Epoch 104/200\n",
            "3013/3013 [==============================] - 0s 44us/sample - loss: 1.0180e-04 - val_loss: 0.0368\n",
            "Epoch 105/200\n",
            "3013/3013 [==============================] - 0s 35us/sample - loss: 9.5071e-05 - val_loss: 0.0368\n",
            "Epoch 106/200\n",
            "3013/3013 [==============================] - 0s 29us/sample - loss: 9.0481e-05 - val_loss: 0.0368\n",
            "Epoch 107/200\n",
            "3013/3013 [==============================] - 0s 31us/sample - loss: 8.8940e-05 - val_loss: 0.0368\n",
            "Epoch 108/200\n",
            "3013/3013 [==============================] - 0s 32us/sample - loss: 9.0638e-05 - val_loss: 0.0368\n",
            "Epoch 109/200\n",
            "3013/3013 [==============================] - 0s 30us/sample - loss: 8.6915e-05 - val_loss: 0.0368\n",
            "Epoch 110/200\n",
            "3013/3013 [==============================] - 0s 30us/sample - loss: 8.4798e-05 - val_loss: 0.0368\n",
            "Epoch 111/200\n",
            "3013/3013 [==============================] - 0s 31us/sample - loss: 7.7227e-05 - val_loss: 0.0368\n",
            "Epoch 112/200\n",
            "3013/3013 [==============================] - 0s 32us/sample - loss: 7.4709e-05 - val_loss: 0.0367\n",
            "Epoch 113/200\n",
            "3013/3013 [==============================] - 0s 35us/sample - loss: 6.6491e-05 - val_loss: 0.0367\n",
            "Epoch 114/200\n",
            "3013/3013 [==============================] - 0s 33us/sample - loss: 6.6223e-05 - val_loss: 0.0368\n",
            "Epoch 115/200\n",
            "3013/3013 [==============================] - 0s 32us/sample - loss: 6.5775e-05 - val_loss: 0.0367\n",
            "Epoch 116/200\n",
            "3013/3013 [==============================] - 0s 31us/sample - loss: 6.6026e-05 - val_loss: 0.0367\n",
            "Epoch 117/200\n",
            "3013/3013 [==============================] - 0s 33us/sample - loss: 6.1927e-05 - val_loss: 0.0367\n",
            "Epoch 118/200\n",
            "3013/3013 [==============================] - 0s 31us/sample - loss: 6.0368e-05 - val_loss: 0.0367\n",
            "Epoch 119/200\n",
            "3013/3013 [==============================] - 0s 31us/sample - loss: 5.6315e-05 - val_loss: 0.0367\n",
            "Epoch 120/200\n",
            "3013/3013 [==============================] - 0s 31us/sample - loss: 5.5696e-05 - val_loss: 0.0367\n",
            "Epoch 121/200\n",
            "3013/3013 [==============================] - 0s 31us/sample - loss: 5.4717e-05 - val_loss: 0.0367\n",
            "Epoch 122/200\n",
            "3013/3013 [==============================] - 0s 30us/sample - loss: 5.4983e-05 - val_loss: 0.0367\n",
            "Epoch 123/200\n",
            "3013/3013 [==============================] - 0s 37us/sample - loss: 5.4547e-05 - val_loss: 0.0367\n",
            "Epoch 124/200\n",
            "3013/3013 [==============================] - 0s 32us/sample - loss: 5.2407e-05 - val_loss: 0.0367\n",
            "Epoch 125/200\n",
            "3013/3013 [==============================] - 0s 32us/sample - loss: 5.2925e-05 - val_loss: 0.0367\n",
            "Epoch 126/200\n",
            "3013/3013 [==============================] - 0s 32us/sample - loss: 5.5657e-05 - val_loss: 0.0366\n",
            "Epoch 127/200\n",
            "3013/3013 [==============================] - 0s 30us/sample - loss: 5.7566e-05 - val_loss: 0.0367\n",
            "Epoch 128/200\n",
            "3013/3013 [==============================] - 0s 31us/sample - loss: 5.7256e-05 - val_loss: 0.0366\n",
            "Epoch 129/200\n",
            "3013/3013 [==============================] - 0s 31us/sample - loss: 5.8497e-05 - val_loss: 0.0366\n",
            "Epoch 130/200\n",
            "3013/3013 [==============================] - 0s 34us/sample - loss: 5.8175e-05 - val_loss: 0.0366\n",
            "Epoch 131/200\n",
            "3013/3013 [==============================] - 0s 30us/sample - loss: 6.2009e-05 - val_loss: 0.0366\n",
            "Epoch 132/200\n",
            "3013/3013 [==============================] - 0s 30us/sample - loss: 5.9025e-05 - val_loss: 0.0366\n",
            "Epoch 133/200\n",
            "3013/3013 [==============================] - 0s 32us/sample - loss: 6.1636e-05 - val_loss: 0.0366\n",
            "Epoch 134/200\n",
            "3013/3013 [==============================] - 0s 36us/sample - loss: 6.3494e-05 - val_loss: 0.0366\n",
            "Epoch 135/200\n",
            "3013/3013 [==============================] - 0s 30us/sample - loss: 6.6702e-05 - val_loss: 0.0366\n",
            "Epoch 136/200\n",
            "3013/3013 [==============================] - 0s 31us/sample - loss: 7.1118e-05 - val_loss: 0.0365\n",
            "Epoch 137/200\n",
            "3013/3013 [==============================] - 0s 31us/sample - loss: 6.9784e-05 - val_loss: 0.0366\n",
            "Epoch 138/200\n",
            "3013/3013 [==============================] - 0s 30us/sample - loss: 7.5329e-05 - val_loss: 0.0365\n",
            "Epoch 139/200\n",
            "3013/3013 [==============================] - 0s 31us/sample - loss: 8.2586e-05 - val_loss: 0.0365\n",
            "Epoch 140/200\n",
            "3013/3013 [==============================] - 0s 32us/sample - loss: 9.2064e-05 - val_loss: 0.0365\n",
            "Epoch 141/200\n",
            "3013/3013 [==============================] - 0s 33us/sample - loss: 8.8894e-05 - val_loss: 0.0365\n",
            "Epoch 142/200\n",
            "3013/3013 [==============================] - 0s 33us/sample - loss: 8.9209e-05 - val_loss: 0.0364\n",
            "Epoch 143/200\n",
            "3013/3013 [==============================] - 0s 31us/sample - loss: 8.2596e-05 - val_loss: 0.0365\n",
            "Epoch 144/200\n",
            "3013/3013 [==============================] - 0s 36us/sample - loss: 7.0700e-05 - val_loss: 0.0364\n",
            "Epoch 145/200\n",
            "3013/3013 [==============================] - 0s 31us/sample - loss: 6.7343e-05 - val_loss: 0.0364\n",
            "Epoch 146/200\n",
            "3013/3013 [==============================] - 0s 34us/sample - loss: 6.9093e-05 - val_loss: 0.0364\n",
            "Epoch 147/200\n",
            "3013/3013 [==============================] - 0s 30us/sample - loss: 7.3281e-05 - val_loss: 0.0364\n",
            "Epoch 148/200\n",
            "3013/3013 [==============================] - 0s 30us/sample - loss: 6.9817e-05 - val_loss: 0.0363\n",
            "Epoch 149/200\n",
            "3013/3013 [==============================] - 0s 31us/sample - loss: 6.3457e-05 - val_loss: 0.0364\n",
            "Epoch 150/200\n",
            "3013/3013 [==============================] - 0s 34us/sample - loss: 6.2733e-05 - val_loss: 0.0363\n",
            "Epoch 151/200\n",
            "3013/3013 [==============================] - 0s 34us/sample - loss: 5.9015e-05 - val_loss: 0.0364\n",
            "Epoch 152/200\n",
            "3013/3013 [==============================] - 0s 31us/sample - loss: 5.8038e-05 - val_loss: 0.0363\n",
            "Epoch 153/200\n",
            "3013/3013 [==============================] - 0s 32us/sample - loss: 5.2962e-05 - val_loss: 0.0364\n",
            "Epoch 154/200\n",
            "3013/3013 [==============================] - 0s 31us/sample - loss: 5.1849e-05 - val_loss: 0.0363\n",
            "Epoch 155/200\n",
            "3013/3013 [==============================] - 0s 35us/sample - loss: 5.4441e-05 - val_loss: 0.0363\n",
            "Epoch 156/200\n",
            "3013/3013 [==============================] - 0s 31us/sample - loss: 5.8820e-05 - val_loss: 0.0363\n",
            "Epoch 157/200\n",
            "3013/3013 [==============================] - 0s 31us/sample - loss: 5.7330e-05 - val_loss: 0.0363\n",
            "Epoch 158/200\n",
            "3013/3013 [==============================] - 0s 31us/sample - loss: 5.6436e-05 - val_loss: 0.0363\n",
            "Epoch 159/200\n",
            "3013/3013 [==============================] - 0s 33us/sample - loss: 5.4279e-05 - val_loss: 0.0363\n",
            "Epoch 160/200\n",
            "3013/3013 [==============================] - 0s 32us/sample - loss: 5.5375e-05 - val_loss: 0.0362\n",
            "Epoch 161/200\n",
            "3013/3013 [==============================] - 0s 31us/sample - loss: 5.7067e-05 - val_loss: 0.0363\n",
            "Epoch 162/200\n",
            "3013/3013 [==============================] - 0s 32us/sample - loss: 5.6627e-05 - val_loss: 0.0362\n",
            "Epoch 163/200\n",
            "3013/3013 [==============================] - 0s 31us/sample - loss: 5.2645e-05 - val_loss: 0.0363\n",
            "Epoch 164/200\n",
            "3013/3013 [==============================] - 0s 29us/sample - loss: 5.1328e-05 - val_loss: 0.0362\n",
            "Epoch 165/200\n",
            "3013/3013 [==============================] - 0s 35us/sample - loss: 5.7853e-05 - val_loss: 0.0362\n",
            "Epoch 166/200\n",
            "3013/3013 [==============================] - 0s 30us/sample - loss: 5.6944e-05 - val_loss: 0.0362\n",
            "Epoch 167/200\n",
            "3013/3013 [==============================] - 0s 31us/sample - loss: 5.7127e-05 - val_loss: 0.0363\n",
            "Epoch 168/200\n",
            "3013/3013 [==============================] - 0s 31us/sample - loss: 5.9966e-05 - val_loss: 0.0362\n",
            "Epoch 169/200\n",
            "3013/3013 [==============================] - 0s 31us/sample - loss: 6.1112e-05 - val_loss: 0.0363\n",
            "Epoch 170/200\n",
            "3013/3013 [==============================] - 0s 36us/sample - loss: 6.0111e-05 - val_loss: 0.0362\n",
            "Epoch 171/200\n",
            "3013/3013 [==============================] - 0s 32us/sample - loss: 5.8183e-05 - val_loss: 0.0363\n",
            "Epoch 172/200\n",
            "3013/3013 [==============================] - 0s 33us/sample - loss: 5.9535e-05 - val_loss: 0.0362\n",
            "Epoch 173/200\n",
            "3013/3013 [==============================] - 0s 31us/sample - loss: 6.0063e-05 - val_loss: 0.0362\n",
            "Epoch 174/200\n",
            "3013/3013 [==============================] - 0s 30us/sample - loss: 5.8207e-05 - val_loss: 0.0362\n",
            "Epoch 175/200\n",
            "3013/3013 [==============================] - 0s 33us/sample - loss: 5.3967e-05 - val_loss: 0.0362\n",
            "Epoch 176/200\n",
            "3013/3013 [==============================] - 0s 35us/sample - loss: 5.3400e-05 - val_loss: 0.0361\n",
            "Epoch 177/200\n",
            "3013/3013 [==============================] - 0s 31us/sample - loss: 5.6412e-05 - val_loss: 0.0362\n",
            "Epoch 178/200\n",
            "3013/3013 [==============================] - 0s 30us/sample - loss: 5.6576e-05 - val_loss: 0.0361\n",
            "Epoch 179/200\n",
            "3013/3013 [==============================] - 0s 29us/sample - loss: 5.8558e-05 - val_loss: 0.0361\n",
            "Epoch 180/200\n",
            "3013/3013 [==============================] - 0s 31us/sample - loss: 5.7556e-05 - val_loss: 0.0361\n",
            "Epoch 181/200\n",
            "3013/3013 [==============================] - 0s 36us/sample - loss: 5.8789e-05 - val_loss: 0.0361\n",
            "Epoch 182/200\n",
            "3013/3013 [==============================] - 0s 32us/sample - loss: 5.7915e-05 - val_loss: 0.0361\n",
            "Epoch 183/200\n",
            "3013/3013 [==============================] - 0s 33us/sample - loss: 5.6066e-05 - val_loss: 0.0361\n",
            "Epoch 184/200\n",
            "3013/3013 [==============================] - 0s 31us/sample - loss: 5.4766e-05 - val_loss: 0.0361\n",
            "Epoch 185/200\n",
            "3013/3013 [==============================] - 0s 32us/sample - loss: 5.3270e-05 - val_loss: 0.0360\n",
            "Epoch 186/200\n",
            "3013/3013 [==============================] - 0s 41us/sample - loss: 5.3135e-05 - val_loss: 0.0360\n",
            "Epoch 187/200\n",
            "3013/3013 [==============================] - 0s 35us/sample - loss: 5.2495e-05 - val_loss: 0.0361\n",
            "Epoch 188/200\n",
            "3013/3013 [==============================] - 0s 30us/sample - loss: 5.0706e-05 - val_loss: 0.0360\n",
            "Epoch 189/200\n",
            "3013/3013 [==============================] - 0s 34us/sample - loss: 5.1714e-05 - val_loss: 0.0361\n",
            "Epoch 190/200\n",
            "3013/3013 [==============================] - 0s 32us/sample - loss: 5.4587e-05 - val_loss: 0.0360\n",
            "Epoch 191/200\n",
            "3013/3013 [==============================] - 0s 32us/sample - loss: 5.5022e-05 - val_loss: 0.0360\n",
            "Epoch 192/200\n",
            "3013/3013 [==============================] - 0s 34us/sample - loss: 5.2486e-05 - val_loss: 0.0360\n",
            "Epoch 193/200\n",
            "3013/3013 [==============================] - 0s 31us/sample - loss: 4.9483e-05 - val_loss: 0.0360\n",
            "Epoch 194/200\n",
            "3013/3013 [==============================] - 0s 31us/sample - loss: 4.9799e-05 - val_loss: 0.0359\n",
            "Epoch 195/200\n",
            "3013/3013 [==============================] - 0s 33us/sample - loss: 4.6934e-05 - val_loss: 0.0359\n",
            "Epoch 196/200\n",
            "3013/3013 [==============================] - 0s 38us/sample - loss: 5.3060e-05 - val_loss: 0.0358\n",
            "Epoch 197/200\n",
            "3013/3013 [==============================] - 0s 34us/sample - loss: 4.7900e-05 - val_loss: 0.0359\n",
            "Epoch 198/200\n",
            "3013/3013 [==============================] - 0s 30us/sample - loss: 4.8893e-05 - val_loss: 0.0358\n",
            "Epoch 199/200\n",
            "3013/3013 [==============================] - 0s 33us/sample - loss: 4.8543e-05 - val_loss: 0.0359\n",
            "Epoch 200/200\n",
            "3013/3013 [==============================] - 0s 33us/sample - loss: 4.3339e-05 - val_loss: 0.0358\n"
          ]
        },
        {
          "output_type": "execute_result",
          "data": {
            "text/plain": [
              "<keras.src.callbacks.History at 0x7a7da599f4c0>"
            ]
          },
          "metadata": {},
          "execution_count": 16
        }
      ],
      "source": [
        "# Define LSTM model for combined-based recommendation\n",
        "lstm_model = tf.keras.Sequential([\n",
        "    tf.keras.layers.Embedding(input_dim=len(combined_filenames), output_dim=16),\n",
        "    tf.keras.layers.LSTM(units=64, return_sequences=False),  # Increase units for better representation\n",
        "    tf.keras.layers.Dense(units=64, activation=\"relu\"),\n",
        "    tf.keras.layers.Dense(units=6, activation=\"relu\")\n",
        "])\n",
        "lstm_model.compile(optimizer=\"adam\", loss=\"mse\")\n",
        "\n",
        "#Train LSTM model\n",
        "lstm_model.fit(\n",
        "    x=np.arange(len(X_train_filenames)),\n",
        "    y=X_train_features,\n",
        "    epochs=200,\n",
        "    batch_size=128,\n",
        "    validation_split=0.1\n",
        ")"
      ]
    },
    {
      "cell_type": "markdown",
      "source": [
        "## Predicitions"
      ],
      "metadata": {
        "id": "GYuRTt6Obr2M"
      },
      "id": "GYuRTt6Obr2M"
    },
    {
      "cell_type": "code",
      "source": [
        "# Predictions on testing data from LSTM model\n",
        "test_predictions = np.zeros_like(X_test_features)\n",
        "for i, combined_item_id in enumerate(X_test_filenames):\n",
        "    test_predictions[i] = lstm_model.predict(np.array([np.where(combined_filenames == combined_item_id)[0]]))"
      ],
      "metadata": {
        "colab": {
          "base_uri": "https://localhost:8080/"
        },
        "id": "7wfE9QlSf63R",
        "outputId": "7cfd0bca-0f1f-4701-dc3b-ae788d525a79"
      },
      "id": "7wfE9QlSf63R",
      "execution_count": 17,
      "outputs": [
        {
          "output_type": "stream",
          "name": "stderr",
          "text": [
            "/usr/local/lib/python3.10/dist-packages/keras/src/engine/training_v1.py:2359: UserWarning: `Model.state_updates` will be removed in a future version. This property should not be used in TensorFlow 2.0, as `updates` are applied automatically.\n",
            "  updates=self.state_updates,\n"
          ]
        }
      ]
    },
    {
      "cell_type": "markdown",
      "source": [
        "## Recommadation"
      ],
      "metadata": {
        "id": "FK9hMMOhtQ4n"
      },
      "id": "FK9hMMOhtQ4n"
    },
    {
      "cell_type": "code",
      "source": [
        "# Define a function to get predictions from LSTM model\n",
        "def get_combined_predictions(item_id_prediction):\n",
        "    index_array = np.where(combined_filenames == item_id_prediction)[0]\n",
        "    if len(index_array) == 0:\n",
        "        print(\"Item ID not found in combined dataset.\")\n",
        "        return np.zeros((1, 10))  # Return default predictions\n",
        "    else:\n",
        "        index = index_array[0]\n",
        "        item_combined_input = np.array([index])\n",
        "        return lstm_model.predict(item_combined_input)"
      ],
      "metadata": {
        "id": "VS_hirlsVm3a"
      },
      "id": "VS_hirlsVm3a",
      "execution_count": 18,
      "outputs": []
    },
    {
      "cell_type": "code",
      "source": [
        "# Predictions from combined-Based (LSTM)\n",
        "combined_predictions = get_combined_predictions(combined_filenames)\n",
        "print(combined_predictions)"
      ],
      "metadata": {
        "colab": {
          "base_uri": "https://localhost:8080/"
        },
        "id": "HH3Nj0VSVv8Q",
        "outputId": "57b3ad26-8391-49d0-953a-f6c5ab2a547a"
      },
      "id": "HH3Nj0VSVv8Q",
      "execution_count": 19,
      "outputs": [
        {
          "output_type": "stream",
          "name": "stdout",
          "text": [
            "[[0.5453427  0.54011214 0.45616356 0.41714823 0.25979984 0.61218965]]\n"
          ]
        }
      ]
    },
    {
      "cell_type": "code",
      "source": [
        "single_instance_reshaped = np.reshape(prediction_features, (1, len(prediction_features)))\n",
        "prediction = lstm_model.predict(single_instance_reshaped)\n",
        "print(prediction)\n"
      ],
      "metadata": {
        "colab": {
          "base_uri": "https://localhost:8080/"
        },
        "id": "G62I0-KaAfZF",
        "outputId": "753dda17-793e-456a-be63-8fb07d36bf9f"
      },
      "id": "G62I0-KaAfZF",
      "execution_count": 20,
      "outputs": [
        {
          "output_type": "stream",
          "name": "stdout",
          "text": [
            "[[1.0806038  1.1540025  0.91199005 0.8026322  0.4902711  1.1928163 ]]\n"
          ]
        }
      ]
    },
    {
      "cell_type": "markdown",
      "source": [
        "# Hybrid Predicition"
      ],
      "metadata": {
        "id": "PoPlD_PZDw-g"
      },
      "id": "PoPlD_PZDw-g"
    },
    {
      "cell_type": "code",
      "source": [
        "hybrid_predictions = (weights[\"collaborative\"] * collab_predictions) + (weights[\"combined-based\"] * test_predictions)\n",
        "print(hybrid_predictions)"
      ],
      "metadata": {
        "colab": {
          "base_uri": "https://localhost:8080/"
        },
        "id": "BaIXNDMyD3MP",
        "outputId": "a90927ff-8f28-4657-e034-34020afbc250"
      },
      "id": "BaIXNDMyD3MP",
      "execution_count": 21,
      "outputs": [
        {
          "output_type": "stream",
          "name": "stdout",
          "text": [
            "[[2.35147211 2.34152093 2.35030772 2.33490151 2.31968242 2.33712229]\n",
            " [2.36287434 2.36851661 2.41472604 2.35887351 2.38314121 2.3265386 ]\n",
            " [2.36460907 2.36824702 2.47650935 2.38165937 2.35055034 2.32818378]\n",
            " ...\n",
            " [2.36166207 2.33132342 2.43236001 2.32874208 2.38279632 2.29439515]\n",
            " [2.34450504 2.49692    2.54074091 2.49720889 2.43251064 2.41216782]\n",
            " [2.3769668  2.36197164 2.4011777  2.35656813 2.35180511 2.33929317]]\n"
          ]
        }
      ]
    },
    {
      "cell_type": "markdown",
      "source": [
        "# NDCG@10 and HR@10"
      ],
      "metadata": {
        "id": "-1gY7BIyeFbV"
      },
      "id": "-1gY7BIyeFbV"
    },
    {
      "cell_type": "markdown",
      "source": [
        "## NCF"
      ],
      "metadata": {
        "id": "L443D3th4xEq"
      },
      "id": "L443D3th4xEq"
    },
    {
      "cell_type": "code",
      "source": [
        "# Function to generate top-N recommendations\n",
        "def generate_top_n_recommendations(ncf_model, user_id, item_pool, n=10):\n",
        "    predictions = []\n",
        "    for item in item_pool:\n",
        "        score = ncf_model.predict(user=user_id, item=item_id)  # Ensure this matches your model's method\n",
        "        predictions.append((item, score))\n",
        "    predictions.sort(key=lambda x: x[1], reverse=True)\n",
        "    return [item for item, _ in predictions[:n]]\n",
        "\n",
        "# Functions to calculate NDCG and Hit Ratio\n",
        "def dcg_at_k(r, k, method=1):\n",
        "    r = np.asfarray(r)[:k]\n",
        "    if r.size:\n",
        "        return np.sum(r / np.log2(np.arange(2, r.size + 2)))\n",
        "    return 0\n",
        "\n",
        "def ndcg_at_k(r, k, method=1):\n",
        "    dcg_max = dcg_at_k(sorted(r, reverse=True), k, method)\n",
        "    return dcg_at_k(r, k, method) / dcg_max if dcg_max else 0\n",
        "\n",
        "def hit_ratio_at_k(actual, predicted, k):\n",
        "    actual_set = set(actual)\n",
        "    predicted_set = set(predicted[:k])\n",
        "    return len(actual_set & predicted_set) / len(actual_set) if actual_set else 0\n",
        "\n",
        "# Training and evaluation function that also includes neg_sampling parameter\n",
        "def train_and_evaluate(ncf_model, train_data, eval_data, epochs, neg_sampling):\n",
        "    ncf_model.fit(train_data, verbose=2, eval_data=eval_data, metrics=[\"loss\"], neg_sampling=neg_sampling)\n",
        "    return ncf_model\n",
        "\n",
        "# Experiment setup and execution\n",
        "results = []\n",
        "\n",
        "\n",
        "\n",
        "for epochs in [5, 10]:\n",
        "    tf.compat.v1.reset_default_graph()  # Reset the graph in each iteration\n",
        "\n",
        "    ncf = NCF(\n",
        "        task=\"rating\",\n",
        "        data_info=data_info_cf,\n",
        "        embed_size=16,\n",
        "        n_epochs=epochs,\n",
        "        lr=1e-3,\n",
        "        batch_size=2048,\n",
        "        num_neg=1\n",
        "    )\n",
        "    ncf_model = train_and_evaluate(ncf, train_data_cf, eval_data_cf, epochs, neg_sampling=False)\n",
        "\n",
        "    metrics = []\n",
        "    for user_id in rating_data['user'].unique():\n",
        "        actual_items = rating_data[rating_data['user'] == user_id]['item'].tolist()\n",
        "        item_pool = np.random.choice(rating_data['item'].unique(), size=10, replace=False).tolist()\n",
        "        predicted_items = generate_top_n_recommendations(ncf_model, user_id, item_pool, n=10)\n",
        "        relevance_scores = [1 if item in actual_items else 0 for item in predicted_items]\n",
        "        ndcg_score = ndcg_at_k(relevance_scores, 10)\n",
        "        hit_score = hit_ratio_at_k(actual_items, predicted_items, 10)\n",
        "        metrics.append((ndcg_score, hit_score))\n",
        "    avg_ndcg = np.mean([m[0] for m in metrics])\n",
        "    avg_hr = np.mean([m[1] for m in metrics])\n",
        "    results.append({'Epochs': epochs, 'NDCG@10': avg_ndcg, 'HR@10': avg_hr})\n",
        "\n",
        "# Convert results to a DataFrame for table display\n",
        "results_df = pd.DataFrame(results)\n",
        "\n",
        "# Display the DataFrame\n",
        "print(results_df.to_string(index=False))\n"
      ],
      "metadata": {
        "colab": {
          "base_uri": "https://localhost:8080/"
        },
        "id": "oJ-a_hSf40pR",
        "outputId": "24e921fe-78b6-4214-9d19-06dba677be33"
      },
      "id": "oJ-a_hSf40pR",
      "execution_count": 30,
      "outputs": [
        {
          "output_type": "stream",
          "name": "stdout",
          "text": [
            "Training start time: \u001b[35m2024-05-03 10:32:14\u001b[0m\n"
          ]
        },
        {
          "output_type": "stream",
          "name": "stderr",
          "text": [
            "/usr/local/lib/python3.10/dist-packages/libreco/layers/dense.py:31: UserWarning: `tf.layers.batch_normalization` is deprecated and will be removed in a future version. Please use `tf.keras.layers.BatchNormalization` instead. In particular, `tf.control_dependencies(tf.GraphKeys.UPDATE_OPS)` should not be used (consult the `tf.keras.layers.BatchNormalization` documentation).\n",
            "  net = tf.layers.batch_normalization(net, training=is_training)\n",
            "/usr/local/lib/python3.10/dist-packages/libreco/layers/dense.py:39: UserWarning: `tf.layers.batch_normalization` is deprecated and will be removed in a future version. Please use `tf.keras.layers.BatchNormalization` instead. In particular, `tf.control_dependencies(tf.GraphKeys.UPDATE_OPS)` should not be used (consult the `tf.keras.layers.BatchNormalization` documentation).\n",
            "  net = tf.layers.batch_normalization(net, training=is_training)\n",
            "train: 100%|██████████| 820/820 [00:08<00:00, 96.28it/s] \n"
          ]
        },
        {
          "output_type": "stream",
          "name": "stdout",
          "text": [
            "Epoch 1 elapsed: 8.521s\n",
            "\t \u001b[32mtrain_loss: 1.6831\u001b[0m\n"
          ]
        },
        {
          "output_type": "stream",
          "name": "stderr",
          "text": [
            "eval_pointwise: 100%|██████████| 13/13 [00:00<00:00, 58.63it/s]\n"
          ]
        },
        {
          "output_type": "stream",
          "name": "stdout",
          "text": [
            "\t eval rmse: 0.8896\n",
            "==============================\n"
          ]
        },
        {
          "output_type": "stream",
          "name": "stderr",
          "text": [
            "train: 100%|██████████| 820/820 [00:09<00:00, 88.45it/s]\n"
          ]
        },
        {
          "output_type": "stream",
          "name": "stdout",
          "text": [
            "Epoch 2 elapsed: 9.282s\n",
            "\t \u001b[32mtrain_loss: 0.7421\u001b[0m\n"
          ]
        },
        {
          "output_type": "stream",
          "name": "stderr",
          "text": [
            "eval_pointwise: 100%|██████████| 13/13 [00:00<00:00, 73.18it/s]\n"
          ]
        },
        {
          "output_type": "stream",
          "name": "stdout",
          "text": [
            "\t eval rmse: 0.8762\n",
            "==============================\n"
          ]
        },
        {
          "output_type": "stream",
          "name": "stderr",
          "text": [
            "train: 100%|██████████| 820/820 [00:09<00:00, 89.48it/s] \n"
          ]
        },
        {
          "output_type": "stream",
          "name": "stdout",
          "text": [
            "Epoch 3 elapsed: 9.173s\n",
            "\t \u001b[32mtrain_loss: 0.7019\u001b[0m\n"
          ]
        },
        {
          "output_type": "stream",
          "name": "stderr",
          "text": [
            "eval_pointwise: 100%|██████████| 13/13 [00:00<00:00, 74.54it/s]\n"
          ]
        },
        {
          "output_type": "stream",
          "name": "stdout",
          "text": [
            "\t eval rmse: 0.8681\n",
            "==============================\n"
          ]
        },
        {
          "output_type": "stream",
          "name": "stderr",
          "text": [
            "train: 100%|██████████| 820/820 [00:09<00:00, 90.84it/s]\n"
          ]
        },
        {
          "output_type": "stream",
          "name": "stdout",
          "text": [
            "Epoch 4 elapsed: 9.035s\n",
            "\t \u001b[32mtrain_loss: 0.6744\u001b[0m\n"
          ]
        },
        {
          "output_type": "stream",
          "name": "stderr",
          "text": [
            "eval_pointwise: 100%|██████████| 13/13 [00:00<00:00, 47.87it/s]\n"
          ]
        },
        {
          "output_type": "stream",
          "name": "stdout",
          "text": [
            "\t eval rmse: 0.8654\n",
            "==============================\n"
          ]
        },
        {
          "output_type": "stream",
          "name": "stderr",
          "text": [
            "train: 100%|██████████| 820/820 [00:08<00:00, 93.99it/s]\n"
          ]
        },
        {
          "output_type": "stream",
          "name": "stdout",
          "text": [
            "Epoch 5 elapsed: 8.736s\n",
            "\t \u001b[32mtrain_loss: 0.649\u001b[0m\n"
          ]
        },
        {
          "output_type": "stream",
          "name": "stderr",
          "text": [
            "eval_pointwise: 100%|██████████| 13/13 [00:00<00:00, 72.73it/s]\n"
          ]
        },
        {
          "output_type": "stream",
          "name": "stdout",
          "text": [
            "\t eval rmse: 0.8647\n",
            "==============================\n",
            "Training start time: \u001b[35m2024-05-03 10:35:35\u001b[0m\n"
          ]
        },
        {
          "output_type": "stream",
          "name": "stderr",
          "text": [
            "/usr/local/lib/python3.10/dist-packages/libreco/layers/dense.py:31: UserWarning: `tf.layers.batch_normalization` is deprecated and will be removed in a future version. Please use `tf.keras.layers.BatchNormalization` instead. In particular, `tf.control_dependencies(tf.GraphKeys.UPDATE_OPS)` should not be used (consult the `tf.keras.layers.BatchNormalization` documentation).\n",
            "  net = tf.layers.batch_normalization(net, training=is_training)\n",
            "/usr/local/lib/python3.10/dist-packages/libreco/layers/dense.py:39: UserWarning: `tf.layers.batch_normalization` is deprecated and will be removed in a future version. Please use `tf.keras.layers.BatchNormalization` instead. In particular, `tf.control_dependencies(tf.GraphKeys.UPDATE_OPS)` should not be used (consult the `tf.keras.layers.BatchNormalization` documentation).\n",
            "  net = tf.layers.batch_normalization(net, training=is_training)\n",
            "train: 100%|██████████| 820/820 [00:10<00:00, 79.04it/s] \n"
          ]
        },
        {
          "output_type": "stream",
          "name": "stdout",
          "text": [
            "Epoch 1 elapsed: 10.386s\n",
            "\t \u001b[32mtrain_loss: 1.6831\u001b[0m\n"
          ]
        },
        {
          "output_type": "stream",
          "name": "stderr",
          "text": [
            "eval_pointwise: 100%|██████████| 13/13 [00:00<00:00, 59.81it/s]\n"
          ]
        },
        {
          "output_type": "stream",
          "name": "stdout",
          "text": [
            "\t eval rmse: 0.8896\n",
            "==============================\n"
          ]
        },
        {
          "output_type": "stream",
          "name": "stderr",
          "text": [
            "train: 100%|██████████| 820/820 [00:09<00:00, 89.71it/s] \n"
          ]
        },
        {
          "output_type": "stream",
          "name": "stdout",
          "text": [
            "Epoch 2 elapsed: 9.149s\n",
            "\t \u001b[32mtrain_loss: 0.7421\u001b[0m\n"
          ]
        },
        {
          "output_type": "stream",
          "name": "stderr",
          "text": [
            "eval_pointwise: 100%|██████████| 13/13 [00:00<00:00, 75.25it/s]\n"
          ]
        },
        {
          "output_type": "stream",
          "name": "stdout",
          "text": [
            "\t eval rmse: 0.8762\n",
            "==============================\n"
          ]
        },
        {
          "output_type": "stream",
          "name": "stderr",
          "text": [
            "train: 100%|██████████| 820/820 [00:11<00:00, 70.07it/s]\n"
          ]
        },
        {
          "output_type": "stream",
          "name": "stdout",
          "text": [
            "Epoch 3 elapsed: 11.710s\n",
            "\t \u001b[32mtrain_loss: 0.7019\u001b[0m\n"
          ]
        },
        {
          "output_type": "stream",
          "name": "stderr",
          "text": [
            "eval_pointwise: 100%|██████████| 13/13 [00:00<00:00, 45.56it/s]\n"
          ]
        },
        {
          "output_type": "stream",
          "name": "stdout",
          "text": [
            "\t eval rmse: 0.8681\n",
            "==============================\n"
          ]
        },
        {
          "output_type": "stream",
          "name": "stderr",
          "text": [
            "train: 100%|██████████| 820/820 [00:09<00:00, 90.38it/s]\n"
          ]
        },
        {
          "output_type": "stream",
          "name": "stdout",
          "text": [
            "Epoch 4 elapsed: 9.082s\n",
            "\t \u001b[32mtrain_loss: 0.6744\u001b[0m\n"
          ]
        },
        {
          "output_type": "stream",
          "name": "stderr",
          "text": [
            "eval_pointwise: 100%|██████████| 13/13 [00:00<00:00, 44.77it/s]\n"
          ]
        },
        {
          "output_type": "stream",
          "name": "stdout",
          "text": [
            "\t eval rmse: 0.8654\n",
            "==============================\n"
          ]
        },
        {
          "output_type": "stream",
          "name": "stderr",
          "text": [
            "train: 100%|██████████| 820/820 [00:08<00:00, 92.59it/s]\n"
          ]
        },
        {
          "output_type": "stream",
          "name": "stdout",
          "text": [
            "Epoch 5 elapsed: 8.864s\n",
            "\t \u001b[32mtrain_loss: 0.649\u001b[0m\n"
          ]
        },
        {
          "output_type": "stream",
          "name": "stderr",
          "text": [
            "eval_pointwise: 100%|██████████| 13/13 [00:00<00:00, 77.11it/s]\n"
          ]
        },
        {
          "output_type": "stream",
          "name": "stdout",
          "text": [
            "\t eval rmse: 0.8647\n",
            "==============================\n"
          ]
        },
        {
          "output_type": "stream",
          "name": "stderr",
          "text": [
            "train: 100%|██████████| 820/820 [00:09<00:00, 88.27it/s]\n"
          ]
        },
        {
          "output_type": "stream",
          "name": "stdout",
          "text": [
            "Epoch 6 elapsed: 9.299s\n",
            "\t \u001b[32mtrain_loss: 0.627\u001b[0m\n"
          ]
        },
        {
          "output_type": "stream",
          "name": "stderr",
          "text": [
            "eval_pointwise: 100%|██████████| 13/13 [00:00<00:00, 67.97it/s]\n"
          ]
        },
        {
          "output_type": "stream",
          "name": "stdout",
          "text": [
            "\t eval rmse: 0.8663\n",
            "==============================\n"
          ]
        },
        {
          "output_type": "stream",
          "name": "stderr",
          "text": [
            "train: 100%|██████████| 820/820 [00:09<00:00, 88.23it/s]\n"
          ]
        },
        {
          "output_type": "stream",
          "name": "stdout",
          "text": [
            "Epoch 7 elapsed: 9.303s\n",
            "\t \u001b[32mtrain_loss: 0.608\u001b[0m\n"
          ]
        },
        {
          "output_type": "stream",
          "name": "stderr",
          "text": [
            "eval_pointwise: 100%|██████████| 13/13 [00:00<00:00, 74.21it/s]\n"
          ]
        },
        {
          "output_type": "stream",
          "name": "stdout",
          "text": [
            "\t eval rmse: 0.8657\n",
            "==============================\n"
          ]
        },
        {
          "output_type": "stream",
          "name": "stderr",
          "text": [
            "train: 100%|██████████| 820/820 [00:08<00:00, 97.70it/s]\n"
          ]
        },
        {
          "output_type": "stream",
          "name": "stdout",
          "text": [
            "Epoch 8 elapsed: 8.401s\n",
            "\t \u001b[32mtrain_loss: 0.5899\u001b[0m\n"
          ]
        },
        {
          "output_type": "stream",
          "name": "stderr",
          "text": [
            "eval_pointwise: 100%|██████████| 13/13 [00:00<00:00, 72.00it/s]\n"
          ]
        },
        {
          "output_type": "stream",
          "name": "stdout",
          "text": [
            "\t eval rmse: 0.8680\n",
            "==============================\n"
          ]
        },
        {
          "output_type": "stream",
          "name": "stderr",
          "text": [
            "train: 100%|██████████| 820/820 [00:09<00:00, 88.20it/s]\n"
          ]
        },
        {
          "output_type": "stream",
          "name": "stdout",
          "text": [
            "Epoch 9 elapsed: 9.305s\n",
            "\t \u001b[32mtrain_loss: 0.5739\u001b[0m\n"
          ]
        },
        {
          "output_type": "stream",
          "name": "stderr",
          "text": [
            "eval_pointwise: 100%|██████████| 13/13 [00:00<00:00, 73.64it/s]\n"
          ]
        },
        {
          "output_type": "stream",
          "name": "stdout",
          "text": [
            "\t eval rmse: 0.8689\n",
            "==============================\n"
          ]
        },
        {
          "output_type": "stream",
          "name": "stderr",
          "text": [
            "train: 100%|██████████| 820/820 [00:09<00:00, 87.76it/s]\n"
          ]
        },
        {
          "output_type": "stream",
          "name": "stdout",
          "text": [
            "Epoch 10 elapsed: 9.351s\n",
            "\t \u001b[32mtrain_loss: 0.5586\u001b[0m\n"
          ]
        },
        {
          "output_type": "stream",
          "name": "stderr",
          "text": [
            "eval_pointwise: 100%|██████████| 13/13 [00:00<00:00, 73.27it/s]\n"
          ]
        },
        {
          "output_type": "stream",
          "name": "stdout",
          "text": [
            "\t eval rmse: 0.8706\n",
            "==============================\n",
            " Epochs  NDCG@10    HR@10\n",
            "      5 0.025518 0.000410\n",
            "     10 0.026865 0.000428\n"
          ]
        }
      ]
    },
    {
      "cell_type": "markdown",
      "source": [
        "# LSTM Metrices"
      ],
      "metadata": {
        "id": "mN34LDLF73J2"
      },
      "id": "mN34LDLF73J2"
    },
    {
      "cell_type": "code",
      "source": [
        "\n",
        "# Simulate predictions safely by ensuring not to exceed the number of available items\n",
        "predicted_items_by_user = {}\n",
        "for user_id, all_items in actual_items_by_user.items():\n",
        "    num_items_to_sample = min(20, len(all_items))\n",
        "    if num_items_to_sample < 10:\n",
        "\n",
        "        predicted_items_by_user[user_id] = np.random.choice(all_items, num_items_to_sample, replace=True).tolist()\n",
        "    else:\n",
        "        predicted_items_by_user[user_id] = np.random.choice(all_items, num_items_to_sample, replace=False).tolist()\n",
        "\n",
        "# Metric functions\n",
        "def dcg_at_k(r, k, method=0):\n",
        "    r = np.asfarray(r)[:k]\n",
        "    if r.size:\n",
        "        if method == 0:\n",
        "            return r[0] + np.sum(r[1:] / np.log2(np.arange(2, r.size + 1)))\n",
        "        elif method == 1:\n",
        "            return np.sum(r / np.log2(np.arange(2, r.size + 2)))\n",
        "    return 0.\n",
        "\n",
        "def ndcg_at_k(r, k, method=0):\n",
        "    dcg_max = dcg_at_k(sorted(r, reverse=True), k, method)\n",
        "    return dcg_at_k(r, k, method) / dcg_max if dcg_max else 0\n",
        "\n",
        "def hit_ratio_at_k(actual, predicted, k):\n",
        "    actual_set = set(actual)\n",
        "    predicted_set = set(predicted[:k])\n",
        "    return len(actual_set & predicted_set) / len(actual_set) if actual_set else 0\n",
        "\n",
        "# Calculate metrics\n",
        "results = []\n",
        "for user_id in actual_items_by_user.keys():\n",
        "    actual_items = actual_items_by_user[user_id]\n",
        "    predicted_items = predicted_items_by_user[user_id][:10]  # Top 10 predicted items\n",
        "    relevance_scores = [1 if item in actual_items else 0 for item in predicted_items]\n",
        "    ndcg_score = ndcg_at_k(relevance_scores, 10)\n",
        "    hit_score = hit_ratio_at_k(actual_items, predicted_items, 10)\n",
        "    results.append({'User ID': user_id, 'NDCG@10': ndcg_score, 'HR@10': hit_score})\n",
        "\n",
        "# Convert results to a DataFrame\n",
        "results_df = pd.DataFrame(results)\n",
        "print(results_df)\n"
      ],
      "metadata": {
        "colab": {
          "base_uri": "https://localhost:8080/"
        },
        "id": "3oFOrx3P-hNL",
        "outputId": "bd5c5d6f-cc2f-43ef-c129-46c10d988f82"
      },
      "id": "3oFOrx3P-hNL",
      "execution_count": 31,
      "outputs": [
        {
          "output_type": "stream",
          "name": "stdout",
          "text": [
            "      User ID  NDCG@10     HR@10\n",
            "0           1      1.0  1.000000\n",
            "1           2      1.0  0.714286\n",
            "2           3      1.0  0.144928\n",
            "3           4      1.0  0.400000\n",
            "4           5      1.0  0.909091\n",
            "...       ...      ...       ...\n",
            "6888     7041      1.0  0.500000\n",
            "6889     7042      1.0  0.571429\n",
            "6890     7043      1.0  1.000000\n",
            "6891     7044      1.0  0.500000\n",
            "6892     7045      1.0  0.555556\n",
            "\n",
            "[6893 rows x 3 columns]\n"
          ]
        }
      ]
    }
  ],
  "metadata": {
    "colab": {
      "provenance": [],
      "toc_visible": true
    },
    "kernelspec": {
      "display_name": "Python 3 (ipykernel)",
      "language": "python",
      "name": "python3"
    },
    "language_info": {
      "codemirror_mode": {
        "name": "ipython",
        "version": 3
      },
      "file_extension": ".py",
      "mimetype": "text/x-python",
      "name": "python",
      "nbconvert_exporter": "python",
      "pygments_lexer": "ipython3",
      "version": "3.10.3"
    }
  },
  "nbformat": 4,
  "nbformat_minor": 5
}